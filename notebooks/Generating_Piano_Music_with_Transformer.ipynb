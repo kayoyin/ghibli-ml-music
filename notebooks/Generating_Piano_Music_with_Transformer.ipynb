{
  "nbformat": 4,
  "nbformat_minor": 0,
  "metadata": {
    "colab": {
      "name": "Generating Piano Music with Transformer",
      "provenance": [],
      "collapsed_sections": []
    },
    "kernelspec": {
      "name": "python3",
      "display_name": "Python 3"
    },
    "accelerator": "GPU"
  },
  "cells": [
    {
      "cell_type": "markdown",
      "metadata": {
        "id": "K-RWsbrhmPpP"
      },
      "source": [
        "##### Copyright 2019 Google LLC.\n",
        "\n",
        "Licensed under the Apache License, Version 2.0 (the \"License\");"
      ]
    },
    {
      "cell_type": "markdown",
      "metadata": {
        "id": "QI5g-x4foZls"
      },
      "source": [
        "# Generating Piano Music with Transformer\n",
        "### ___Ian Simon, Anna Huang, Jesse Engel, Curtis \"Fjord\" Hawthorne___\n",
        "\n",
        "This Colab notebook lets you play with pretrained [Transformer](https://arxiv.org/abs/1706.03762) models for piano music generation, based on the [Music Transformer](http://g.co/magenta/music-transformer) model introduced by [Huang et al.](https://arxiv.org/abs/1809.04281) in 2018.\n",
        "\n",
        "The models used here were trained on over 10,000 hours of piano recordings from YouTube, transcribed using [Onsets and Frames](http://g.co/magenta/onsets-frames) and represented using the event vocabulary from [Performance RNN](http://g.co/magenta/performance-rnn).\n",
        "\n",
        "Unlike the original Music Transformer paper, this notebook uses attention based on absolute instead of relative position; we may add models that use relative attention at some point in the future."
      ]
    },
    {
      "cell_type": "code",
      "source": [
        "# Peter Schaldenbrand Adding these lines for current Colab compatibility 3/14/2022\n",
        "!pip install tensorflow-gpu==1.14.0 numpy==1.19.5 &> /dev/null"
      ],
      "metadata": {
        "id": "3ZOza0eFm9ib"
      },
      "execution_count": 1,
      "outputs": []
    },
    {
      "cell_type": "markdown",
      "source": [
        "# **Restart the notebook after running the line above**\n",
        "Runtime menu -> Restart Runtime\n",
        "\n",
        "Then run the rest of the cells"
      ],
      "metadata": {
        "id": "shRUhfGMpMBK"
      }
    },
    {
      "cell_type": "markdown",
      "metadata": {
        "id": "rDMQbHPYVKmV"
      },
      "source": [
        "# Environment Setup"
      ]
    },
    {
      "cell_type": "code",
      "metadata": {
        "id": "tciXVi5eWG_1",
        "cellView": "form",
        "outputId": "27fa1571-1512-46d6-ee0d-3902765251ad",
        "colab": {
          "base_uri": "https://localhost:8080/"
        }
      },
      "source": [
        "#@title Setup Environment\n",
        "#@markdown Copy some auxiliary data from Google Cloud Storage.\n",
        "#@markdown Also install and import Python dependencies needed\n",
        "#@markdown for running the Transformer models.\n",
        "\n",
        "%tensorflow_version 1.x\n",
        "\n",
        "print('Copying Salamander piano SoundFont (via https://sites.google.com/site/soundfonts4u) from GCS...')\n",
        "!gsutil -q -m cp -r gs://magentadata/models/music_transformer/primers/* /content/\n",
        "!gsutil -q -m cp gs://magentadata/soundfonts/Yamaha-C5-Salamander-JNv5.1.sf2 /content/\n",
        "\n",
        "print('Installing dependencies...')\n",
        "!apt-get update -qq && apt-get install -qq libfluidsynth1 build-essential libasound2-dev libjack-dev\n",
        "!pip install -q 'tensorflow-datasets < 4.0.0'\n",
        "!pip install -qU google-cloud magenta pyfluidsynth\n",
        "\n",
        "print('Importing libraries...')\n",
        "\n",
        "import numpy as np\n",
        "import os\n",
        "import tensorflow.compat.v1 as tf\n",
        "\n",
        "from google.colab import files\n",
        "\n",
        "from tensor2tensor import models\n",
        "from tensor2tensor import problems\n",
        "from tensor2tensor.data_generators import text_encoder\n",
        "from tensor2tensor.utils import decoding\n",
        "from tensor2tensor.utils import trainer_lib\n",
        "\n",
        "from magenta.models.score2perf import score2perf\n",
        "import note_seq\n",
        "\n",
        "tf.disable_v2_behavior()\n",
        "\n",
        "print('Done!')"
      ],
      "execution_count": 1,
      "outputs": [
        {
          "output_type": "stream",
          "name": "stdout",
          "text": [
            "TensorFlow 1.x selected.\n",
            "Copying Salamander piano SoundFont (via https://sites.google.com/site/soundfonts4u) from GCS...\n",
            "Installing dependencies...\n",
            "Selecting previously unselected package libfluidsynth1:amd64.\n",
            "(Reading database ... 156210 files and directories currently installed.)\n",
            "Preparing to unpack .../libfluidsynth1_1.1.9-1_amd64.deb ...\n",
            "Unpacking libfluidsynth1:amd64 (1.1.9-1) ...\n",
            "Setting up libfluidsynth1:amd64 (1.1.9-1) ...\n",
            "Processing triggers for libc-bin (2.27-3ubuntu1.3) ...\n",
            "/sbin/ldconfig.real: /usr/local/lib/python3.7/dist-packages/ideep4py/lib/libmkldnn.so.0 is not a symbolic link\n",
            "\n",
            "\u001b[K     |████████████████████████████████| 3.4 MB 5.3 MB/s \n",
            "\u001b[K     |████████████████████████████████| 1.4 MB 5.2 MB/s \n",
            "\u001b[K     |████████████████████████████████| 3.6 MB 33.9 MB/s \n",
            "\u001b[K     |████████████████████████████████| 352 kB 47.6 MB/s \n",
            "\u001b[K     |████████████████████████████████| 2.3 MB 32.1 MB/s \n",
            "\u001b[K     |████████████████████████████████| 1.6 MB 35.9 MB/s \n",
            "\u001b[K     |████████████████████████████████| 204 kB 45.7 MB/s \n",
            "\u001b[K     |████████████████████████████████| 210 kB 47.1 MB/s \n",
            "\u001b[K     |████████████████████████████████| 20.2 MB 1.5 MB/s \n",
            "\u001b[?25h  Building wheel for librosa (setup.py) ... \u001b[?25l\u001b[?25hdone\n",
            "  Building wheel for pygtrie (setup.py) ... \u001b[?25l\u001b[?25hdone\n",
            "  Building wheel for python-rtmidi (setup.py) ... \u001b[?25l\u001b[?25hdone\n",
            "  Building wheel for gast (setup.py) ... \u001b[?25l\u001b[?25hdone\n",
            "\u001b[31mERROR: pip's dependency resolver does not currently take into account all the packages that are installed. This behaviour is the source of the following dependency conflicts.\n",
            "tensorflow-gpu 1.14.0 requires tensorboard<1.15.0,>=1.14.0, but you have tensorboard 1.15.0 which is incompatible.\n",
            "tensorflow-gpu 1.14.0 requires tensorflow-estimator<1.15.0rc0,>=1.14.0rc0, but you have tensorflow-estimator 1.15.1 which is incompatible.\n",
            "kapre 0.3.7 requires tensorflow>=2.0.0, but you have tensorflow 1.15.2 which is incompatible.\u001b[0m\n",
            "Importing libraries...\n",
            "WARNING:tensorflow:\n",
            "The TensorFlow contrib module will not be included in TensorFlow 2.0.\n",
            "For more information, please see:\n",
            "  * https://github.com/tensorflow/community/blob/master/rfcs/20180907-contrib-sunset.md\n",
            "  * https://github.com/tensorflow/addons\n",
            "  * https://github.com/tensorflow/io (for I/O related ops)\n",
            "If you depend on functionality not listed there, please file an issue.\n",
            "\n",
            "WARNING:tensorflow:From /tensorflow-1.15.2/python3.7/tensor2tensor/utils/adafactor.py:27: The name tf.train.Optimizer is deprecated. Please use tf.compat.v1.train.Optimizer instead.\n",
            "\n",
            "WARNING:tensorflow:From /tensorflow-1.15.2/python3.7/tensor2tensor/utils/multistep_optimizer.py:32: The name tf.train.AdamOptimizer is deprecated. Please use tf.compat.v1.train.AdamOptimizer instead.\n",
            "\n",
            "WARNING:tensorflow:From /tensorflow-1.15.2/python3.7/tensor2tensor/models/research/glow_init_hook.py:25: The name tf.train.SessionRunHook is deprecated. Please use tf.estimator.SessionRunHook instead.\n",
            "\n",
            "WARNING:tensorflow:From /tensorflow-1.15.2/python3.7/tensor2tensor/models/research/neural_stack.py:51: The name tf.nn.rnn_cell.RNNCell is deprecated. Please use tf.compat.v1.nn.rnn_cell.RNNCell instead.\n",
            "\n",
            "WARNING:tensorflow:From /tensorflow-1.15.2/python3.7/tensor2tensor/utils/trainer_lib.py:111: The name tf.OptimizerOptions is deprecated. Please use tf.compat.v1.OptimizerOptions instead.\n",
            "\n"
          ]
        },
        {
          "output_type": "stream",
          "name": "stderr",
          "text": [
            "WARNING:tensorflow:From /tensorflow-1.15.2/python3.7/tensor2tensor/utils/trainer_lib.py:111: The name tf.OptimizerOptions is deprecated. Please use tf.compat.v1.OptimizerOptions instead.\n",
            "\n"
          ]
        },
        {
          "output_type": "stream",
          "name": "stdout",
          "text": [
            "WARNING:tensorflow:From /tensorflow-1.15.2/python3.7/tensorflow_gan/python/estimator/tpu_gan_estimator.py:42: The name tf.estimator.tpu.TPUEstimator is deprecated. Please use tf.compat.v1.estimator.tpu.TPUEstimator instead.\n",
            "\n"
          ]
        },
        {
          "output_type": "stream",
          "name": "stderr",
          "text": [
            "WARNING:tensorflow:From /tensorflow-1.15.2/python3.7/tensorflow_gan/python/estimator/tpu_gan_estimator.py:42: The name tf.estimator.tpu.TPUEstimator is deprecated. Please use tf.compat.v1.estimator.tpu.TPUEstimator instead.\n",
            "\n",
            "/usr/local/lib/python3.7/dist-packages/librosa/util/decorators.py:9: NumbaDeprecationWarning: An import was requested from a module that has moved location.\n",
            "Import requested from: 'numba.decorators', please update to use 'numba.core.decorators' or pin to Numba version 0.48.0. This alias will not be present in Numba version 0.50.0.\n",
            "  from numba.decorators import jit as optional_jit\n",
            "/usr/local/lib/python3.7/dist-packages/librosa/util/decorators.py:9: NumbaDeprecationWarning: An import was requested from a module that has moved location.\n",
            "Import of 'jit' requested from: 'numba.decorators', please update to use 'numba.core.decorators' or pin to Numba version 0.48.0. This alias will not be present in Numba version 0.50.0.\n",
            "  from numba.decorators import jit as optional_jit\n"
          ]
        },
        {
          "output_type": "stream",
          "name": "stdout",
          "text": [
            "WARNING:tensorflow:From /tensorflow-1.15.2/python3.7/tensorflow_core/python/compat/v2_compat.py:68: disable_resource_variables (from tensorflow.python.ops.variable_scope) is deprecated and will be removed in a future version.\n",
            "Instructions for updating:\n",
            "non-resource variables are not supported in the long term\n"
          ]
        },
        {
          "output_type": "stream",
          "name": "stderr",
          "text": [
            "WARNING:tensorflow:From /tensorflow-1.15.2/python3.7/tensorflow_core/python/compat/v2_compat.py:68: disable_resource_variables (from tensorflow.python.ops.variable_scope) is deprecated and will be removed in a future version.\n",
            "Instructions for updating:\n",
            "non-resource variables are not supported in the long term\n"
          ]
        },
        {
          "output_type": "stream",
          "name": "stdout",
          "text": [
            "Done!\n"
          ]
        }
      ]
    },
    {
      "cell_type": "code",
      "metadata": {
        "id": "3URxzTQyXfdO",
        "cellView": "form"
      },
      "source": [
        "#@title Definitions\n",
        "#@markdown Define a few constants and helper functions.\n",
        "\n",
        "SF2_PATH = '/content/Yamaha-C5-Salamander-JNv5.1.sf2'\n",
        "SAMPLE_RATE = 16000\n",
        "\n",
        "# Upload a MIDI file and convert to NoteSequence.\n",
        "def upload_midi():\n",
        "  data = list(files.upload().values())\n",
        "  if len(data) > 1:\n",
        "    print('Multiple files uploaded; using only one.')\n",
        "  return note_seq.midi_to_note_sequence(data[0])\n",
        "\n",
        "# Decode a list of IDs.\n",
        "def decode(ids, encoder):\n",
        "  ids = list(ids)\n",
        "  if text_encoder.EOS_ID in ids:\n",
        "    ids = ids[:ids.index(text_encoder.EOS_ID)]\n",
        "  return encoder.decode(ids)\n",
        "  "
      ],
      "execution_count": 2,
      "outputs": []
    },
    {
      "cell_type": "markdown",
      "metadata": {
        "id": "pl3oY0w8gBJh"
      },
      "source": [
        "# Piano Performance Language Model"
      ]
    },
    {
      "cell_type": "code",
      "metadata": {
        "id": "PBngSJvP_En7",
        "cellView": "form"
      },
      "source": [
        "#@title Setup and Load Checkpoint\n",
        "#@markdown Set up generation from an unconditional Transformer\n",
        "#@markdown model.\n",
        "\n",
        "model_name = 'transformer'\n",
        "hparams_set = 'transformer_tpu'\n",
        "ckpt_path = 'gs://magentadata/models/music_transformer/checkpoints/unconditional_model_16.ckpt'\n",
        "\n",
        "class PianoPerformanceLanguageModelProblem(score2perf.Score2PerfProblem):\n",
        "  @property\n",
        "  def add_eos_symbol(self):\n",
        "    return True\n",
        "\n",
        "problem = PianoPerformanceLanguageModelProblem()\n",
        "unconditional_encoders = problem.get_feature_encoders()\n",
        "\n",
        "# Set up HParams.\n",
        "hparams = trainer_lib.create_hparams(hparams_set=hparams_set)\n",
        "trainer_lib.add_problem_hparams(hparams, problem)\n",
        "hparams.num_hidden_layers = 16\n",
        "hparams.sampling_method = 'random'\n",
        "\n",
        "# Set up decoding HParams.\n",
        "decode_hparams = decoding.decode_hparams()\n",
        "decode_hparams.alpha = 0.0\n",
        "decode_hparams.beam_size = 1\n",
        "\n",
        "# Create Estimator.\n",
        "run_config = trainer_lib.create_run_config(hparams)\n",
        "estimator = trainer_lib.create_estimator(\n",
        "    model_name, hparams, run_config,\n",
        "    decode_hparams=decode_hparams)\n",
        "\n",
        "# Create input generator (so we can adjust priming and\n",
        "# decode length on the fly).\n",
        "def input_generator():\n",
        "  global targets\n",
        "  global decode_length\n",
        "  while True:\n",
        "    yield {\n",
        "        'targets': np.array([targets], dtype=np.int32),\n",
        "        'decode_length': np.array(decode_length, dtype=np.int32)\n",
        "    }\n",
        "\n",
        "# These values will be changed by subsequent cells.\n",
        "targets = []\n",
        "decode_length = 0\n",
        "\n",
        "# Start the Estimator, loading from the specified checkpoint.\n",
        "input_fn = decoding.make_input_fn_from_generator(input_generator())\n",
        "unconditional_samples = estimator.predict(\n",
        "    input_fn, checkpoint_path=ckpt_path)\n",
        "\n",
        "# \"Burn\" one.\n",
        "_ = next(unconditional_samples)"
      ],
      "execution_count": null,
      "outputs": []
    },
    {
      "cell_type": "code",
      "metadata": {
        "id": "_1ybYgKSgIt-",
        "cellView": "form"
      },
      "source": [
        "#@title Generate from Scratch\n",
        "#@markdown Generate a piano performance from scratch.\n",
        "#@markdown\n",
        "#@markdown This can take a minute or so depending on the length\n",
        "#@markdown of the performance the model ends up generating.\n",
        "#@markdown Because we use a \n",
        "#@markdown [representation](http://g.co/magenta/performance-rnn)\n",
        "#@markdown where each event corresponds to a variable amount of\n",
        "#@markdown time, the actual number of seconds generated may vary.\n",
        "\n",
        "targets = []\n",
        "decode_length = 1024\n",
        "\n",
        "# Generate sample events.\n",
        "sample_ids = next(unconditional_samples)['outputs']\n",
        "\n",
        "# Decode to NoteSequence.\n",
        "midi_filename = decode(\n",
        "    sample_ids,\n",
        "    encoder=unconditional_encoders['targets'])\n",
        "unconditional_ns = note_seq.midi_file_to_note_sequence(midi_filename)\n",
        "\n",
        "# Play and plot.\n",
        "note_seq.play_sequence(\n",
        "    unconditional_ns,\n",
        "    synth=note_seq.fluidsynth, sample_rate=SAMPLE_RATE, sf2_path=SF2_PATH)\n",
        "note_seq.plot_sequence(unconditional_ns)"
      ],
      "execution_count": null,
      "outputs": []
    },
    {
      "cell_type": "code",
      "metadata": {
        "id": "1R7s3MmldBBB",
        "cellView": "form"
      },
      "source": [
        "#@title Download Performance as MIDI\n",
        "#@markdown Download generated performance as MIDI (optional).\n",
        "\n",
        "note_seq.sequence_proto_to_midi_file(\n",
        "    unconditional_ns, '/tmp/unconditional.mid')\n",
        "files.download('/tmp/unconditional.mid')"
      ],
      "execution_count": null,
      "outputs": []
    },
    {
      "cell_type": "code",
      "metadata": {
        "id": "in5GRrDqKj-f",
        "cellView": "form"
      },
      "source": [
        "#@title Choose Priming Sequence\n",
        "#@markdown Here you can choose a priming sequence to be continued\n",
        "#@markdown by the model.  We have provided a few, or you can\n",
        "#@markdown upload your own MIDI file.\n",
        "#@markdown\n",
        "#@markdown Set `max_primer_seconds` below to trim the primer to a\n",
        "#@markdown fixed number of seconds (this will have no effect if\n",
        "#@markdown the primer is already shorter than `max_primer_seconds`).\n",
        "\n",
        "filenames = {\n",
        "    'C major arpeggio': '/content/c_major_arpeggio.mid',\n",
        "    'C major scale': '/content/c_major_scale.mid',\n",
        "    'Clair de Lune': '/content/clair_de_lune.mid',\n",
        "}\n",
        "primer = 'C major scale'  #@param ['C major arpeggio', 'C major scale', 'Clair de Lune', 'Upload your own!']\n",
        "\n",
        "if primer == 'Upload your own!':\n",
        "  primer_ns = upload_midi()\n",
        "else:\n",
        "  # Use one of the provided primers.\n",
        "  primer_ns = note_seq.midi_file_to_note_sequence(filenames[primer])\n",
        "\n",
        "# Handle sustain pedal in the primer.\n",
        "primer_ns = note_seq.apply_sustain_control_changes(primer_ns)\n",
        "\n",
        "# Trim to desired number of seconds.\n",
        "max_primer_seconds = 20  #@param {type:\"slider\", min:1, max:120}\n",
        "if primer_ns.total_time > max_primer_seconds:\n",
        "  print('Primer is longer than %d seconds, truncating.' % max_primer_seconds)\n",
        "  primer_ns = note_seq.extract_subsequence(\n",
        "      primer_ns, 0, max_primer_seconds)\n",
        "\n",
        "# Remove drums from primer if present.\n",
        "if any(note.is_drum for note in primer_ns.notes):\n",
        "  print('Primer contains drums; they will be removed.')\n",
        "  notes = [note for note in primer_ns.notes if not note.is_drum]\n",
        "  del primer_ns.notes[:]\n",
        "  primer_ns.notes.extend(notes)\n",
        "\n",
        "# Set primer instrument and program.\n",
        "for note in primer_ns.notes:\n",
        "  note.instrument = 1\n",
        "  note.program = 0\n",
        "\n",
        "# Play and plot the primer.\n",
        "note_seq.play_sequence(\n",
        "    primer_ns,\n",
        "    synth=note_seq.fluidsynth, sample_rate=SAMPLE_RATE, sf2_path=SF2_PATH)\n",
        "note_seq.plot_sequence(primer_ns)\n"
      ],
      "execution_count": null,
      "outputs": []
    },
    {
      "cell_type": "code",
      "metadata": {
        "id": "-O4niaxYPWyR",
        "cellView": "form"
      },
      "source": [
        "#@title Generate Continuation\n",
        "#@markdown Continue a piano performance, starting with the\n",
        "#@markdown chosen priming sequence.\n",
        "\n",
        "targets = unconditional_encoders['targets'].encode_note_sequence(\n",
        "    primer_ns)\n",
        "\n",
        "# Remove the end token from the encoded primer.\n",
        "targets = targets[:-1]\n",
        "\n",
        "decode_length = max(0, 4096 - len(targets))\n",
        "if len(targets) >= 4096:\n",
        "  print('Primer has more events than maximum sequence length; nothing will be generated.')\n",
        "\n",
        "# Generate sample events.\n",
        "sample_ids = next(unconditional_samples)['outputs']\n",
        "\n",
        "# Decode to NoteSequence.\n",
        "midi_filename = decode(\n",
        "    sample_ids,\n",
        "    encoder=unconditional_encoders['targets'])\n",
        "ns = note_seq.midi_file_to_note_sequence(midi_filename)\n",
        "\n",
        "# Append continuation to primer.\n",
        "continuation_ns = note_seq.concatenate_sequences([primer_ns, ns])\n",
        "\n",
        "# Play and plot.\n",
        "note_seq.play_sequence(\n",
        "    continuation_ns,\n",
        "    synth=note_seq.fluidsynth, sample_rate=SAMPLE_RATE, sf2_path=SF2_PATH)\n",
        "note_seq.plot_sequence(continuation_ns)"
      ],
      "execution_count": null,
      "outputs": []
    },
    {
      "cell_type": "code",
      "metadata": {
        "id": "Wwg_8SI4eIyy",
        "cellView": "form"
      },
      "source": [
        "#@title Download Continuation as MIDI\n",
        "#@markdown Download performance (primer + generated continuation)\n",
        "#@markdown as MIDI (optional).\n",
        "\n",
        "note_seq.sequence_proto_to_midi_file(\n",
        "    continuation_ns, '/tmp/continuation.mid')\n",
        "files.download('/tmp/continuation.mid')"
      ],
      "execution_count": null,
      "outputs": []
    },
    {
      "cell_type": "markdown",
      "metadata": {
        "id": "loV8bwJ8fOR_"
      },
      "source": [
        "# Melody-Conditioned Piano Performance Model"
      ]
    },
    {
      "cell_type": "code",
      "metadata": {
        "id": "CFnUHAk1g_rc",
        "cellView": "form",
        "outputId": "c9bd947c-b08a-46d3-87ca-283cfef5da56",
        "colab": {
          "base_uri": "https://localhost:8080/"
        }
      },
      "source": [
        "#@title Setup and Load Checkpoint\n",
        "#@markdown Set up generation from a melody-conditioned\n",
        "#@markdown Transformer model.\n",
        "\n",
        "model_name = 'transformer'\n",
        "hparams_set = 'transformer_tpu'\n",
        "ckpt_path = 'gs://magentadata/models/music_transformer/checkpoints/melody_conditioned_model_16.ckpt'\n",
        "\n",
        "class MelodyToPianoPerformanceProblem(score2perf.AbsoluteMelody2PerfProblem):\n",
        "  @property\n",
        "  def add_eos_symbol(self):\n",
        "    return True\n",
        "\n",
        "problem = MelodyToPianoPerformanceProblem()\n",
        "melody_conditioned_encoders = problem.get_feature_encoders()\n",
        "\n",
        "# Set up HParams.\n",
        "hparams = trainer_lib.create_hparams(hparams_set=hparams_set)\n",
        "trainer_lib.add_problem_hparams(hparams, problem)\n",
        "hparams.num_hidden_layers = 16\n",
        "hparams.sampling_method = 'random'\n",
        "\n",
        "# Set up decoding HParams.\n",
        "decode_hparams = decoding.decode_hparams()\n",
        "decode_hparams.alpha = 0.0\n",
        "decode_hparams.beam_size = 1\n",
        "\n",
        "# Create Estimator.\n",
        "run_config = trainer_lib.create_run_config(hparams)\n",
        "estimator = trainer_lib.create_estimator(\n",
        "    model_name, hparams, run_config,\n",
        "    decode_hparams=decode_hparams)\n",
        "\n",
        "# These values will be changed by the following cell.\n",
        "inputs = []\n",
        "decode_length = 0\n",
        "\n",
        "# Create input generator.\n",
        "def input_generator():\n",
        "  global inputs\n",
        "  while True:\n",
        "    yield {\n",
        "        'inputs': np.array([[inputs]], dtype=np.int32),\n",
        "        'targets': np.zeros([1, 0], dtype=np.int32),\n",
        "        'decode_length': np.array(decode_length, dtype=np.int32)\n",
        "    }\n",
        "\n",
        "# Start the Estimator, loading from the specified checkpoint.\n",
        "input_fn = decoding.make_input_fn_from_generator(input_generator())\n",
        "melody_conditioned_samples = estimator.predict(\n",
        "    input_fn, checkpoint_path=ckpt_path)\n",
        "\n",
        "# \"Burn\" one.\n",
        "_ = next(melody_conditioned_samples)"
      ],
      "execution_count": 3,
      "outputs": [
        {
          "output_type": "stream",
          "name": "stdout",
          "text": [
            "WARNING:tensorflow:From /tensorflow-1.15.2/python3.7/tensor2tensor/utils/trainer_lib.py:123: The name tf.GraphOptions is deprecated. Please use tf.compat.v1.GraphOptions instead.\n",
            "\n"
          ]
        },
        {
          "output_type": "stream",
          "name": "stderr",
          "text": [
            "WARNING:tensorflow:From /tensorflow-1.15.2/python3.7/tensor2tensor/utils/trainer_lib.py:123: The name tf.GraphOptions is deprecated. Please use tf.compat.v1.GraphOptions instead.\n",
            "\n"
          ]
        },
        {
          "output_type": "stream",
          "name": "stdout",
          "text": [
            "WARNING:tensorflow:From /tensorflow-1.15.2/python3.7/tensor2tensor/utils/trainer_lib.py:129: The name tf.GPUOptions is deprecated. Please use tf.compat.v1.GPUOptions instead.\n",
            "\n"
          ]
        },
        {
          "output_type": "stream",
          "name": "stderr",
          "text": [
            "WARNING:tensorflow:From /tensorflow-1.15.2/python3.7/tensor2tensor/utils/trainer_lib.py:129: The name tf.GPUOptions is deprecated. Please use tf.compat.v1.GPUOptions instead.\n",
            "\n"
          ]
        },
        {
          "output_type": "stream",
          "name": "stdout",
          "text": [
            "WARNING:tensorflow:From /tensorflow-1.15.2/python3.7/tensor2tensor/utils/trainer_lib.py:131: The name tf.ConfigProto is deprecated. Please use tf.compat.v1.ConfigProto instead.\n",
            "\n"
          ]
        },
        {
          "output_type": "stream",
          "name": "stderr",
          "text": [
            "WARNING:tensorflow:From /tensorflow-1.15.2/python3.7/tensor2tensor/utils/trainer_lib.py:131: The name tf.ConfigProto is deprecated. Please use tf.compat.v1.ConfigProto instead.\n",
            "\n"
          ]
        },
        {
          "output_type": "stream",
          "name": "stdout",
          "text": [
            "WARNING:tensorflow:From /tensorflow-1.15.2/python3.7/tensor2tensor/utils/trainer_lib.py:242: RunConfig.__init__ (from tensorflow.contrib.learn.python.learn.estimators.run_config) is deprecated and will be removed in a future version.\n",
            "Instructions for updating:\n",
            "When switching to tf.estimator.Estimator, use tf.estimator.RunConfig instead.\n"
          ]
        },
        {
          "output_type": "stream",
          "name": "stderr",
          "text": [
            "WARNING:tensorflow:From /tensorflow-1.15.2/python3.7/tensor2tensor/utils/trainer_lib.py:242: RunConfig.__init__ (from tensorflow.contrib.learn.python.learn.estimators.run_config) is deprecated and will be removed in a future version.\n",
            "Instructions for updating:\n",
            "When switching to tf.estimator.Estimator, use tf.estimator.RunConfig instead.\n"
          ]
        },
        {
          "output_type": "stream",
          "name": "stdout",
          "text": [
            "WARNING:tensorflow:From /tensorflow-1.15.2/python3.7/tensor2tensor/utils/trainer_lib.py:265: The name tf.logging.info is deprecated. Please use tf.compat.v1.logging.info instead.\n",
            "\n"
          ]
        },
        {
          "output_type": "stream",
          "name": "stderr",
          "text": [
            "WARNING:tensorflow:From /tensorflow-1.15.2/python3.7/tensor2tensor/utils/trainer_lib.py:265: The name tf.logging.info is deprecated. Please use tf.compat.v1.logging.info instead.\n",
            "\n"
          ]
        },
        {
          "output_type": "stream",
          "name": "stdout",
          "text": [
            "INFO:tensorflow:Configuring DataParallelism to replicate the model.\n"
          ]
        },
        {
          "output_type": "stream",
          "name": "stderr",
          "text": [
            "INFO:tensorflow:Configuring DataParallelism to replicate the model.\n"
          ]
        },
        {
          "output_type": "stream",
          "name": "stdout",
          "text": [
            "INFO:tensorflow:schedule=continuous_train_and_eval\n"
          ]
        },
        {
          "output_type": "stream",
          "name": "stderr",
          "text": [
            "INFO:tensorflow:schedule=continuous_train_and_eval\n"
          ]
        },
        {
          "output_type": "stream",
          "name": "stdout",
          "text": [
            "INFO:tensorflow:worker_gpu=1\n"
          ]
        },
        {
          "output_type": "stream",
          "name": "stderr",
          "text": [
            "INFO:tensorflow:worker_gpu=1\n"
          ]
        },
        {
          "output_type": "stream",
          "name": "stdout",
          "text": [
            "INFO:tensorflow:sync=False\n"
          ]
        },
        {
          "output_type": "stream",
          "name": "stderr",
          "text": [
            "INFO:tensorflow:sync=False\n"
          ]
        },
        {
          "output_type": "stream",
          "name": "stdout",
          "text": [
            "WARNING:tensorflow:From /tensorflow-1.15.2/python3.7/tensor2tensor/utils/devices.py:139: The name tf.logging.warn is deprecated. Please use tf.compat.v1.logging.warn instead.\n",
            "\n"
          ]
        },
        {
          "output_type": "stream",
          "name": "stderr",
          "text": [
            "WARNING:tensorflow:From /tensorflow-1.15.2/python3.7/tensor2tensor/utils/devices.py:139: The name tf.logging.warn is deprecated. Please use tf.compat.v1.logging.warn instead.\n",
            "\n"
          ]
        },
        {
          "output_type": "stream",
          "name": "stdout",
          "text": [
            "WARNING:tensorflow:Schedule=continuous_train_and_eval. Assuming that training is running on a single machine.\n"
          ]
        },
        {
          "output_type": "stream",
          "name": "stderr",
          "text": [
            "WARNING:tensorflow:Schedule=continuous_train_and_eval. Assuming that training is running on a single machine.\n"
          ]
        },
        {
          "output_type": "stream",
          "name": "stdout",
          "text": [
            "INFO:tensorflow:datashard_devices: ['gpu:0']\n"
          ]
        },
        {
          "output_type": "stream",
          "name": "stderr",
          "text": [
            "INFO:tensorflow:datashard_devices: ['gpu:0']\n"
          ]
        },
        {
          "output_type": "stream",
          "name": "stdout",
          "text": [
            "INFO:tensorflow:caching_devices: None\n"
          ]
        },
        {
          "output_type": "stream",
          "name": "stderr",
          "text": [
            "INFO:tensorflow:caching_devices: None\n"
          ]
        },
        {
          "output_type": "stream",
          "name": "stdout",
          "text": [
            "INFO:tensorflow:ps_devices: ['gpu:0']\n"
          ]
        },
        {
          "output_type": "stream",
          "name": "stderr",
          "text": [
            "INFO:tensorflow:ps_devices: ['gpu:0']\n"
          ]
        },
        {
          "output_type": "stream",
          "name": "stdout",
          "text": [
            "WARNING:tensorflow:Using temporary folder as model directory: /tmp/tmp1ussgnxl\n"
          ]
        },
        {
          "output_type": "stream",
          "name": "stderr",
          "text": [
            "WARNING:tensorflow:Using temporary folder as model directory: /tmp/tmp1ussgnxl\n"
          ]
        },
        {
          "output_type": "stream",
          "name": "stdout",
          "text": [
            "INFO:tensorflow:Using config: {'_task_type': None, '_task_id': 0, '_cluster_spec': <tensorflow.python.training.server_lib.ClusterSpec object at 0x7fe845c27310>, '_master': '', '_num_ps_replicas': 0, '_num_worker_replicas': 0, '_environment': 'local', '_is_chief': True, '_evaluation_master': '', '_train_distribute': None, '_eval_distribute': None, '_experimental_max_worker_delay_secs': None, '_device_fn': None, '_tf_config': gpu_options {\n",
            "  per_process_gpu_memory_fraction: 1.0\n",
            "}\n",
            ", '_tf_random_seed': None, '_save_summary_steps': 100, '_save_checkpoints_secs': None, '_log_step_count_steps': 100, '_protocol': None, '_session_config': gpu_options {\n",
            "  per_process_gpu_memory_fraction: 0.95\n",
            "}\n",
            "allow_soft_placement: true\n",
            "graph_options {\n",
            "  optimizer_options {\n",
            "    global_jit_level: OFF\n",
            "  }\n",
            "}\n",
            "isolate_session_state: true\n",
            ", '_save_checkpoints_steps': 1000, '_keep_checkpoint_max': 20, '_keep_checkpoint_every_n_hours': 10000, '_model_dir': '/tmp/tmp1ussgnxl', '_session_creation_timeout_secs': 7200, 'use_tpu': False, 't2t_device_info': {'num_async_replicas': 1}, 'data_parallelism': <tensor2tensor.utils.expert_utils.Parallelism object at 0x7fe845c27050>}\n"
          ]
        },
        {
          "output_type": "stream",
          "name": "stderr",
          "text": [
            "INFO:tensorflow:Using config: {'_task_type': None, '_task_id': 0, '_cluster_spec': <tensorflow.python.training.server_lib.ClusterSpec object at 0x7fe845c27310>, '_master': '', '_num_ps_replicas': 0, '_num_worker_replicas': 0, '_environment': 'local', '_is_chief': True, '_evaluation_master': '', '_train_distribute': None, '_eval_distribute': None, '_experimental_max_worker_delay_secs': None, '_device_fn': None, '_tf_config': gpu_options {\n",
            "  per_process_gpu_memory_fraction: 1.0\n",
            "}\n",
            ", '_tf_random_seed': None, '_save_summary_steps': 100, '_save_checkpoints_secs': None, '_log_step_count_steps': 100, '_protocol': None, '_session_config': gpu_options {\n",
            "  per_process_gpu_memory_fraction: 0.95\n",
            "}\n",
            "allow_soft_placement: true\n",
            "graph_options {\n",
            "  optimizer_options {\n",
            "    global_jit_level: OFF\n",
            "  }\n",
            "}\n",
            "isolate_session_state: true\n",
            ", '_save_checkpoints_steps': 1000, '_keep_checkpoint_max': 20, '_keep_checkpoint_every_n_hours': 10000, '_model_dir': '/tmp/tmp1ussgnxl', '_session_creation_timeout_secs': 7200, 'use_tpu': False, 't2t_device_info': {'num_async_replicas': 1}, 'data_parallelism': <tensor2tensor.utils.expert_utils.Parallelism object at 0x7fe845c27050>}\n"
          ]
        },
        {
          "output_type": "stream",
          "name": "stdout",
          "text": [
            "WARNING:tensorflow:Estimator's model_fn (<function T2TModel.make_estimator_model_fn.<locals>.wrapping_model_fn at 0x7fe845c6cc20>) includes params argument, but params are not passed to Estimator.\n"
          ]
        },
        {
          "output_type": "stream",
          "name": "stderr",
          "text": [
            "WARNING:tensorflow:Estimator's model_fn (<function T2TModel.make_estimator_model_fn.<locals>.wrapping_model_fn at 0x7fe845c6cc20>) includes params argument, but params are not passed to Estimator.\n"
          ]
        },
        {
          "output_type": "stream",
          "name": "stdout",
          "text": [
            "WARNING:tensorflow:From /tensorflow-1.15.2/python3.7/tensor2tensor/utils/decoding.py:617: py_func (from tensorflow.python.ops.script_ops) is deprecated and will be removed in a future version.\n",
            "Instructions for updating:\n",
            "tf.py_func is deprecated in TF V2. Instead, there are two\n",
            "    options available in V2.\n",
            "    - tf.py_function takes a python function which manipulates tf eager\n",
            "    tensors instead of numpy arrays. It's easy to convert a tf eager tensor to\n",
            "    an ndarray (just call tensor.numpy()) but having access to eager tensors\n",
            "    means `tf.py_function`s can use accelerators such as GPUs as well as\n",
            "    being differentiable using a gradient tape.\n",
            "    - tf.numpy_function maintains the semantics of the deprecated tf.py_func\n",
            "    (it is not differentiable, and manipulates numpy arrays). It drops the\n",
            "    stateful argument making all functions stateful.\n",
            "    \n"
          ]
        },
        {
          "output_type": "stream",
          "name": "stderr",
          "text": [
            "WARNING:tensorflow:From /tensorflow-1.15.2/python3.7/tensor2tensor/utils/decoding.py:617: py_func (from tensorflow.python.ops.script_ops) is deprecated and will be removed in a future version.\n",
            "Instructions for updating:\n",
            "tf.py_func is deprecated in TF V2. Instead, there are two\n",
            "    options available in V2.\n",
            "    - tf.py_function takes a python function which manipulates tf eager\n",
            "    tensors instead of numpy arrays. It's easy to convert a tf eager tensor to\n",
            "    an ndarray (just call tensor.numpy()) but having access to eager tensors\n",
            "    means `tf.py_function`s can use accelerators such as GPUs as well as\n",
            "    being differentiable using a gradient tape.\n",
            "    - tf.numpy_function maintains the semantics of the deprecated tf.py_func\n",
            "    (it is not differentiable, and manipulates numpy arrays). It drops the\n",
            "    stateful argument making all functions stateful.\n",
            "    \n"
          ]
        },
        {
          "output_type": "stream",
          "name": "stdout",
          "text": [
            "WARNING:tensorflow:Input graph does not use tf.data.Dataset or contain a QueueRunner. That means predict yields forever. This is probably a mistake.\n"
          ]
        },
        {
          "output_type": "stream",
          "name": "stderr",
          "text": [
            "WARNING:tensorflow:Input graph does not use tf.data.Dataset or contain a QueueRunner. That means predict yields forever. This is probably a mistake.\n"
          ]
        },
        {
          "output_type": "stream",
          "name": "stdout",
          "text": [
            "INFO:tensorflow:Calling model_fn.\n"
          ]
        },
        {
          "output_type": "stream",
          "name": "stderr",
          "text": [
            "INFO:tensorflow:Calling model_fn.\n"
          ]
        },
        {
          "output_type": "stream",
          "name": "stdout",
          "text": [
            "WARNING:tensorflow:From /tensorflow-1.15.2/python3.7/tensor2tensor/utils/t2t_model.py:1452: The name tf.get_variable_scope is deprecated. Please use tf.compat.v1.get_variable_scope instead.\n",
            "\n"
          ]
        },
        {
          "output_type": "stream",
          "name": "stderr",
          "text": [
            "WARNING:tensorflow:From /tensorflow-1.15.2/python3.7/tensor2tensor/utils/t2t_model.py:1452: The name tf.get_variable_scope is deprecated. Please use tf.compat.v1.get_variable_scope instead.\n",
            "\n"
          ]
        },
        {
          "output_type": "stream",
          "name": "stdout",
          "text": [
            "INFO:tensorflow:Unsetting shared_embedding_and_softmax_weights.\n"
          ]
        },
        {
          "output_type": "stream",
          "name": "stderr",
          "text": [
            "INFO:tensorflow:Unsetting shared_embedding_and_softmax_weights.\n"
          ]
        },
        {
          "output_type": "stream",
          "name": "stdout",
          "text": [
            "INFO:tensorflow:Setting T2TModel mode to 'infer'\n"
          ]
        },
        {
          "output_type": "stream",
          "name": "stderr",
          "text": [
            "INFO:tensorflow:Setting T2TModel mode to 'infer'\n"
          ]
        },
        {
          "output_type": "stream",
          "name": "stdout",
          "text": [
            "INFO:tensorflow:Setting hparams.dropout to 0.0\n"
          ]
        },
        {
          "output_type": "stream",
          "name": "stderr",
          "text": [
            "INFO:tensorflow:Setting hparams.dropout to 0.0\n"
          ]
        },
        {
          "output_type": "stream",
          "name": "stdout",
          "text": [
            "INFO:tensorflow:Setting hparams.label_smoothing to 0.0\n"
          ]
        },
        {
          "output_type": "stream",
          "name": "stderr",
          "text": [
            "INFO:tensorflow:Setting hparams.label_smoothing to 0.0\n"
          ]
        },
        {
          "output_type": "stream",
          "name": "stdout",
          "text": [
            "INFO:tensorflow:Setting hparams.layer_prepostprocess_dropout to 0.0\n"
          ]
        },
        {
          "output_type": "stream",
          "name": "stderr",
          "text": [
            "INFO:tensorflow:Setting hparams.layer_prepostprocess_dropout to 0.0\n"
          ]
        },
        {
          "output_type": "stream",
          "name": "stdout",
          "text": [
            "INFO:tensorflow:Setting hparams.symbol_dropout to 0.0\n"
          ]
        },
        {
          "output_type": "stream",
          "name": "stderr",
          "text": [
            "INFO:tensorflow:Setting hparams.symbol_dropout to 0.0\n"
          ]
        },
        {
          "output_type": "stream",
          "name": "stdout",
          "text": [
            "INFO:tensorflow:Setting hparams.attention_dropout to 0.0\n"
          ]
        },
        {
          "output_type": "stream",
          "name": "stderr",
          "text": [
            "INFO:tensorflow:Setting hparams.attention_dropout to 0.0\n"
          ]
        },
        {
          "output_type": "stream",
          "name": "stdout",
          "text": [
            "INFO:tensorflow:Setting hparams.relu_dropout to 0.0\n"
          ]
        },
        {
          "output_type": "stream",
          "name": "stderr",
          "text": [
            "INFO:tensorflow:Setting hparams.relu_dropout to 0.0\n"
          ]
        },
        {
          "output_type": "stream",
          "name": "stdout",
          "text": [
            "WARNING:tensorflow:From /tensorflow-1.15.2/python3.7/tensor2tensor/layers/common_layers.py:94: The name tf.get_default_graph is deprecated. Please use tf.compat.v1.get_default_graph instead.\n",
            "\n"
          ]
        },
        {
          "output_type": "stream",
          "name": "stderr",
          "text": [
            "WARNING:tensorflow:From /tensorflow-1.15.2/python3.7/tensor2tensor/layers/common_layers.py:94: The name tf.get_default_graph is deprecated. Please use tf.compat.v1.get_default_graph instead.\n",
            "\n"
          ]
        },
        {
          "output_type": "stream",
          "name": "stdout",
          "text": [
            "WARNING:tensorflow:From /tensorflow-1.15.2/python3.7/tensor2tensor/utils/t2t_model.py:244: The name tf.summary.text is deprecated. Please use tf.compat.v1.summary.text instead.\n",
            "\n"
          ]
        },
        {
          "output_type": "stream",
          "name": "stderr",
          "text": [
            "WARNING:tensorflow:From /tensorflow-1.15.2/python3.7/tensor2tensor/utils/t2t_model.py:244: The name tf.summary.text is deprecated. Please use tf.compat.v1.summary.text instead.\n",
            "\n"
          ]
        },
        {
          "output_type": "stream",
          "name": "stdout",
          "text": [
            "INFO:tensorflow:Greedy Decoding\n"
          ]
        },
        {
          "output_type": "stream",
          "name": "stderr",
          "text": [
            "INFO:tensorflow:Greedy Decoding\n"
          ]
        },
        {
          "output_type": "stream",
          "name": "stdout",
          "text": [
            "WARNING:tensorflow:From /tensorflow-1.15.2/python3.7/tensor2tensor/models/transformer.py:339: The name tf.variable_scope is deprecated. Please use tf.compat.v1.variable_scope instead.\n",
            "\n"
          ]
        },
        {
          "output_type": "stream",
          "name": "stderr",
          "text": [
            "WARNING:tensorflow:From /tensorflow-1.15.2/python3.7/tensor2tensor/models/transformer.py:339: The name tf.variable_scope is deprecated. Please use tf.compat.v1.variable_scope instead.\n",
            "\n"
          ]
        },
        {
          "output_type": "stream",
          "name": "stdout",
          "text": [
            "WARNING:tensorflow:From /tensorflow-1.15.2/python3.7/tensor2tensor/layers/modalities.py:475: The name tf.get_variable is deprecated. Please use tf.compat.v1.get_variable instead.\n",
            "\n"
          ]
        },
        {
          "output_type": "stream",
          "name": "stderr",
          "text": [
            "WARNING:tensorflow:From /tensorflow-1.15.2/python3.7/tensor2tensor/layers/modalities.py:475: The name tf.get_variable is deprecated. Please use tf.compat.v1.get_variable instead.\n",
            "\n"
          ]
        },
        {
          "output_type": "stream",
          "name": "stdout",
          "text": [
            "WARNING:tensorflow:From /tensorflow-1.15.2/python3.7/tensor2tensor/layers/common_attention.py:859: to_float (from tensorflow.python.ops.math_ops) is deprecated and will be removed in a future version.\n",
            "Instructions for updating:\n",
            "Use `tf.cast` instead.\n"
          ]
        },
        {
          "output_type": "stream",
          "name": "stderr",
          "text": [
            "WARNING:tensorflow:From /tensorflow-1.15.2/python3.7/tensor2tensor/layers/common_attention.py:859: to_float (from tensorflow.python.ops.math_ops) is deprecated and will be removed in a future version.\n",
            "Instructions for updating:\n",
            "Use `tf.cast` instead.\n"
          ]
        },
        {
          "output_type": "stream",
          "name": "stdout",
          "text": [
            "WARNING:tensorflow:From /tensorflow-1.15.2/python3.7/tensor2tensor/layers/common_attention.py:453: The name tf.mod is deprecated. Please use tf.math.mod instead.\n",
            "\n"
          ]
        },
        {
          "output_type": "stream",
          "name": "stderr",
          "text": [
            "WARNING:tensorflow:From /tensorflow-1.15.2/python3.7/tensor2tensor/layers/common_attention.py:453: The name tf.mod is deprecated. Please use tf.math.mod instead.\n",
            "\n"
          ]
        },
        {
          "output_type": "stream",
          "name": "stdout",
          "text": [
            "WARNING:tensorflow:From /tensorflow-1.15.2/python3.7/tensor2tensor/models/transformer.py:96: calling dropout (from tensorflow.python.ops.nn_ops) with keep_prob is deprecated and will be removed in a future version.\n",
            "Instructions for updating:\n",
            "Please use `rate` instead of `keep_prob`. Rate should be set to `rate = 1 - keep_prob`.\n"
          ]
        },
        {
          "output_type": "stream",
          "name": "stderr",
          "text": [
            "WARNING:tensorflow:From /tensorflow-1.15.2/python3.7/tensor2tensor/models/transformer.py:96: calling dropout (from tensorflow.python.ops.nn_ops) with keep_prob is deprecated and will be removed in a future version.\n",
            "Instructions for updating:\n",
            "Please use `rate` instead of `keep_prob`. Rate should be set to `rate = 1 - keep_prob`.\n"
          ]
        },
        {
          "output_type": "stream",
          "name": "stdout",
          "text": [
            "WARNING:tensorflow:From /tensorflow-1.15.2/python3.7/tensor2tensor/utils/expert_utils.py:621: where (from tensorflow.python.ops.array_ops) is deprecated and will be removed in a future version.\n",
            "Instructions for updating:\n",
            "Use tf.where in 2.0, which has the same broadcast rule as np.where\n"
          ]
        },
        {
          "output_type": "stream",
          "name": "stderr",
          "text": [
            "WARNING:tensorflow:From /tensorflow-1.15.2/python3.7/tensor2tensor/utils/expert_utils.py:621: where (from tensorflow.python.ops.array_ops) is deprecated and will be removed in a future version.\n",
            "Instructions for updating:\n",
            "Use tf.where in 2.0, which has the same broadcast rule as np.where\n"
          ]
        },
        {
          "output_type": "stream",
          "name": "stdout",
          "text": [
            "WARNING:tensorflow:From /tensorflow-1.15.2/python3.7/tensor2tensor/utils/expert_utils.py:621: to_int32 (from tensorflow.python.ops.math_ops) is deprecated and will be removed in a future version.\n",
            "Instructions for updating:\n",
            "Use `tf.cast` instead.\n"
          ]
        },
        {
          "output_type": "stream",
          "name": "stderr",
          "text": [
            "WARNING:tensorflow:From /tensorflow-1.15.2/python3.7/tensor2tensor/utils/expert_utils.py:621: to_int32 (from tensorflow.python.ops.math_ops) is deprecated and will be removed in a future version.\n",
            "Instructions for updating:\n",
            "Use `tf.cast` instead.\n"
          ]
        },
        {
          "output_type": "stream",
          "name": "stdout",
          "text": [
            "WARNING:tensorflow:From /tensorflow-1.15.2/python3.7/tensor2tensor/layers/common_layers.py:707: The name tf.squared_difference is deprecated. Please use tf.math.squared_difference instead.\n",
            "\n"
          ]
        },
        {
          "output_type": "stream",
          "name": "stderr",
          "text": [
            "WARNING:tensorflow:From /tensorflow-1.15.2/python3.7/tensor2tensor/layers/common_layers.py:707: The name tf.squared_difference is deprecated. Please use tf.math.squared_difference instead.\n",
            "\n"
          ]
        },
        {
          "output_type": "stream",
          "name": "stdout",
          "text": [
            "WARNING:tensorflow:From /tensorflow-1.15.2/python3.7/tensor2tensor/layers/common_layers.py:708: The name tf.rsqrt is deprecated. Please use tf.math.rsqrt instead.\n",
            "\n"
          ]
        },
        {
          "output_type": "stream",
          "name": "stderr",
          "text": [
            "WARNING:tensorflow:From /tensorflow-1.15.2/python3.7/tensor2tensor/layers/common_layers.py:708: The name tf.rsqrt is deprecated. Please use tf.math.rsqrt instead.\n",
            "\n"
          ]
        },
        {
          "output_type": "stream",
          "name": "stdout",
          "text": [
            "WARNING:tensorflow:From /tensorflow-1.15.2/python3.7/tensor2tensor/layers/common_layers.py:3077: The name tf.layers.Dense is deprecated. Please use tf.compat.v1.layers.Dense instead.\n",
            "\n"
          ]
        },
        {
          "output_type": "stream",
          "name": "stderr",
          "text": [
            "WARNING:tensorflow:From /tensorflow-1.15.2/python3.7/tensor2tensor/layers/common_layers.py:3077: The name tf.layers.Dense is deprecated. Please use tf.compat.v1.layers.Dense instead.\n",
            "\n"
          ]
        },
        {
          "output_type": "stream",
          "name": "stdout",
          "text": [
            "WARNING:tensorflow:From /tensorflow-1.15.2/python3.7/tensor2tensor/layers/common_attention.py:1251: The name tf.summary.image is deprecated. Please use tf.compat.v1.summary.image instead.\n",
            "\n"
          ]
        },
        {
          "output_type": "stream",
          "name": "stderr",
          "text": [
            "WARNING:tensorflow:From /tensorflow-1.15.2/python3.7/tensor2tensor/layers/common_attention.py:1251: The name tf.summary.image is deprecated. Please use tf.compat.v1.summary.image instead.\n",
            "\n"
          ]
        },
        {
          "output_type": "stream",
          "name": "stdout",
          "text": [
            "WARNING:tensorflow:From /tensorflow-1.15.2/python3.7/tensor2tensor/layers/common_layers.py:2999: The name tf.matrix_band_part is deprecated. Please use tf.linalg.band_part instead.\n",
            "\n"
          ]
        },
        {
          "output_type": "stream",
          "name": "stderr",
          "text": [
            "WARNING:tensorflow:From /tensorflow-1.15.2/python3.7/tensor2tensor/layers/common_layers.py:2999: The name tf.matrix_band_part is deprecated. Please use tf.linalg.band_part instead.\n",
            "\n"
          ]
        },
        {
          "output_type": "stream",
          "name": "stdout",
          "text": [
            "WARNING:tensorflow:From /tensorflow-1.15.2/python3.7/tensor2tensor/layers/common_layers.py:2965: multinomial (from tensorflow.python.ops.random_ops) is deprecated and will be removed in a future version.\n",
            "Instructions for updating:\n",
            "Use `tf.random.categorical` instead.\n"
          ]
        },
        {
          "output_type": "stream",
          "name": "stderr",
          "text": [
            "WARNING:tensorflow:From /tensorflow-1.15.2/python3.7/tensor2tensor/layers/common_layers.py:2965: multinomial (from tensorflow.python.ops.random_ops) is deprecated and will be removed in a future version.\n",
            "Instructions for updating:\n",
            "Use `tf.random.categorical` instead.\n"
          ]
        },
        {
          "output_type": "stream",
          "name": "stdout",
          "text": [
            "WARNING:tensorflow:From /tensorflow-1.15.2/python3.7/tensor2tensor/models/transformer.py:1219: to_int64 (from tensorflow.python.ops.math_ops) is deprecated and will be removed in a future version.\n",
            "Instructions for updating:\n",
            "Use `tf.cast` instead.\n"
          ]
        },
        {
          "output_type": "stream",
          "name": "stderr",
          "text": [
            "WARNING:tensorflow:From /tensorflow-1.15.2/python3.7/tensor2tensor/models/transformer.py:1219: to_int64 (from tensorflow.python.ops.math_ops) is deprecated and will be removed in a future version.\n",
            "Instructions for updating:\n",
            "Use `tf.cast` instead.\n"
          ]
        },
        {
          "output_type": "stream",
          "name": "stdout",
          "text": [
            "WARNING:tensorflow:From /tensorflow-1.15.2/python3.7/tensor2tensor/utils/t2t_model.py:1745: The name tf.saved_model.signature_constants.DEFAULT_SERVING_SIGNATURE_DEF_KEY is deprecated. Please use tf.saved_model.DEFAULT_SERVING_SIGNATURE_DEF_KEY instead.\n",
            "\n"
          ]
        },
        {
          "output_type": "stream",
          "name": "stderr",
          "text": [
            "WARNING:tensorflow:From /tensorflow-1.15.2/python3.7/tensor2tensor/utils/t2t_model.py:1745: The name tf.saved_model.signature_constants.DEFAULT_SERVING_SIGNATURE_DEF_KEY is deprecated. Please use tf.saved_model.DEFAULT_SERVING_SIGNATURE_DEF_KEY instead.\n",
            "\n"
          ]
        },
        {
          "output_type": "stream",
          "name": "stdout",
          "text": [
            "INFO:tensorflow:Done calling model_fn.\n"
          ]
        },
        {
          "output_type": "stream",
          "name": "stderr",
          "text": [
            "INFO:tensorflow:Done calling model_fn.\n"
          ]
        },
        {
          "output_type": "stream",
          "name": "stdout",
          "text": [
            "INFO:tensorflow:Graph was finalized.\n"
          ]
        },
        {
          "output_type": "stream",
          "name": "stderr",
          "text": [
            "INFO:tensorflow:Graph was finalized.\n"
          ]
        },
        {
          "output_type": "stream",
          "name": "stdout",
          "text": [
            "INFO:tensorflow:Restoring parameters from gs://magentadata/models/music_transformer/checkpoints/melody_conditioned_model_16.ckpt\n"
          ]
        },
        {
          "output_type": "stream",
          "name": "stderr",
          "text": [
            "INFO:tensorflow:Restoring parameters from gs://magentadata/models/music_transformer/checkpoints/melody_conditioned_model_16.ckpt\n"
          ]
        },
        {
          "output_type": "stream",
          "name": "stdout",
          "text": [
            "INFO:tensorflow:Running local_init_op.\n"
          ]
        },
        {
          "output_type": "stream",
          "name": "stderr",
          "text": [
            "INFO:tensorflow:Running local_init_op.\n"
          ]
        },
        {
          "output_type": "stream",
          "name": "stdout",
          "text": [
            "INFO:tensorflow:Done running local_init_op.\n"
          ]
        },
        {
          "output_type": "stream",
          "name": "stderr",
          "text": [
            "INFO:tensorflow:Done running local_init_op.\n"
          ]
        }
      ]
    },
    {
      "cell_type": "markdown",
      "source": [
        "# You can Download MIDI FIles from [this site](http://www.sortmusic.com/en/free-midis,len.html)\n",
        "\n",
        "Download the file then upload it in the cell below if you select **\"Upload your own!\"**\n",
        "\n",
        "> Indented block\n",
        "\n"
      ],
      "metadata": {
        "id": "M3SG9tnSovxe"
      }
    },
    {
      "cell_type": "code",
      "metadata": {
        "id": "xqWN4dEDLVdQ",
        "cellView": "form",
        "colab": {
          "resources": {
            "http://localhost:8080/nbextensions/google.colab/files.js": {
              "data": "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",
              "ok": true,
              "headers": [
                [
                  "content-type",
                  "application/javascript"
                ]
              ],
              "status": 200,
              "status_text": ""
            }
          },
          "base_uri": "https://localhost:8080/",
          "height": 403
        },
        "outputId": "ca2f9122-5f41-448a-c367-873fc05c788b"
      },
      "source": [
        "#@title Choose Melody\n",
        "#@markdown Here you can choose a melody to be accompanied by the\n",
        "#@markdown model.  We have provided a few, or you can upload a\n",
        "#@markdown MIDI file; if your MIDI file is polyphonic, the notes\n",
        "#@markdown with highest pitch will be used as the melody.\n",
        "\n",
        "# Tokens to insert between melody events.\n",
        "event_padding = 2 * [note_seq.MELODY_NO_EVENT]\n",
        "\n",
        "melodies = {\n",
        "    'Mary Had a Little Lamb': [\n",
        "        64, 62, 60, 62, 64, 64, 64, note_seq.MELODY_NO_EVENT,\n",
        "        62, 62, 62, note_seq.MELODY_NO_EVENT,\n",
        "        64, 67, 67, note_seq.MELODY_NO_EVENT,\n",
        "        64, 62, 60, 62, 64, 64, 64, 64,\n",
        "        62, 62, 64, 62, 60, note_seq.MELODY_NO_EVENT,\n",
        "        note_seq.MELODY_NO_EVENT, note_seq.MELODY_NO_EVENT\n",
        "    ],\n",
        "    'Row Row Row Your Boat': [\n",
        "        60, note_seq.MELODY_NO_EVENT, note_seq.MELODY_NO_EVENT,\n",
        "        60, note_seq.MELODY_NO_EVENT, note_seq.MELODY_NO_EVENT,\n",
        "        60, note_seq.MELODY_NO_EVENT, 62,\n",
        "        64, note_seq.MELODY_NO_EVENT, note_seq.MELODY_NO_EVENT,\n",
        "        64, note_seq.MELODY_NO_EVENT, 62,\n",
        "        64, note_seq.MELODY_NO_EVENT, 65,\n",
        "        67, note_seq.MELODY_NO_EVENT, note_seq.MELODY_NO_EVENT,\n",
        "        note_seq.MELODY_NO_EVENT, note_seq.MELODY_NO_EVENT, note_seq.MELODY_NO_EVENT,\n",
        "        72, 72, 72, 67, 67, 67, 64, 64, 64, 60, 60, 60,\n",
        "        67, note_seq.MELODY_NO_EVENT, 65,\n",
        "        64, note_seq.MELODY_NO_EVENT, 62,\n",
        "        60, note_seq.MELODY_NO_EVENT, note_seq.MELODY_NO_EVENT,\n",
        "        note_seq.MELODY_NO_EVENT, note_seq.MELODY_NO_EVENT, note_seq.MELODY_NO_EVENT\n",
        "    ],\n",
        "    'Twinkle Twinkle Little Star': [\n",
        "        60, 60, 67, 67, 69, 69, 67, note_seq.MELODY_NO_EVENT,\n",
        "        65, 65, 64, 64, 62, 62, 60, note_seq.MELODY_NO_EVENT,\n",
        "        67, 67, 65, 65, 64, 64, 62, note_seq.MELODY_NO_EVENT,\n",
        "        67, 67, 65, 65, 64, 64, 62, note_seq.MELODY_NO_EVENT,\n",
        "        60, 60, 67, 67, 69, 69, 67, note_seq.MELODY_NO_EVENT,\n",
        "        65, 65, 64, 64, 62, 62, 60, note_seq.MELODY_NO_EVENT        \n",
        "    ]\n",
        "}\n",
        "\n",
        "melody = 'Upload your own!'  #@param ['Mary Had a Little Lamb', 'Row Row Row Your Boat', 'Twinkle Twinkle Little Star', 'Upload your own!']\n",
        "\n",
        "if melody == 'Upload your own!':\n",
        "  # Extract melody from user-uploaded MIDI file.\n",
        "  melody_ns = upload_midi()\n",
        "  melody_instrument = note_seq.infer_melody_for_sequence(melody_ns)\n",
        "  notes = [note for note in melody_ns.notes\n",
        "           if note.instrument == melody_instrument]\n",
        "  del melody_ns.notes[:]\n",
        "  melody_ns.notes.extend(\n",
        "      sorted(notes, key=lambda note: note.start_time))\n",
        "  for i in range(len(melody_ns.notes) - 1):\n",
        "    melody_ns.notes[i].end_time = melody_ns.notes[i + 1].start_time\n",
        "  inputs = melody_conditioned_encoders['inputs'].encode_note_sequence(\n",
        "      melody_ns)\n",
        "else:\n",
        "  # Use one of the provided melodies.\n",
        "  events = [event + 12 if event != note_seq.MELODY_NO_EVENT else event\n",
        "            for e in melodies[melody]\n",
        "            for event in [e] + event_padding]\n",
        "  inputs = melody_conditioned_encoders['inputs'].encode(\n",
        "      ' '.join(str(e) for e in events))\n",
        "  melody_ns = note_seq.Melody(events).to_sequence(qpm=150)\n",
        "\n",
        "# Play and plot the melody.\n",
        "note_seq.play_sequence(\n",
        "    melody_ns,\n",
        "    synth=note_seq.fluidsynth, sample_rate=SAMPLE_RATE, sf2_path=SF2_PATH)\n",
        "note_seq.plot_sequence(melody_ns)\n"
      ],
      "execution_count": 4,
      "outputs": [
        {
          "output_type": "display_data",
          "data": {
            "text/plain": [
              "<IPython.core.display.HTML object>"
            ],
            "text/html": [
              "\n",
              "     <input type=\"file\" id=\"files-80671d81-f1af-48ad-acd8-ae2a3997d2d4\" name=\"files[]\" multiple disabled\n",
              "        style=\"border:none\" />\n",
              "     <output id=\"result-80671d81-f1af-48ad-acd8-ae2a3997d2d4\">\n",
              "      Upload widget is only available when the cell has been executed in the\n",
              "      current browser session. Please rerun this cell to enable.\n",
              "      </output>\n",
              "      <script src=\"/nbextensions/google.colab/files.js\"></script> "
            ]
          },
          "metadata": {}
        },
        {
          "output_type": "stream",
          "name": "stdout",
          "text": [
            "Saving rand.mid to rand.mid\n"
          ]
        },
        {
          "output_type": "stream",
          "name": "stderr",
          "text": [
            "/usr/local/lib/python3.7/dist-packages/note_seq/melody_inference.py:319: RuntimeWarning: divide by zero encountered in log\n",
            "  melody_transition_distribution[pitch_indices, :][:, pitch_indices])\n",
            "/usr/local/lib/python3.7/dist-packages/note_seq/melody_inference.py:184: RuntimeWarning: divide by zero encountered in log\n",
            "  mat = durations[:, np.newaxis] * np.log(mat)\n"
          ]
        },
        {
          "output_type": "display_data",
          "data": {
            "text/plain": [
              "<IPython.core.display.HTML object>"
            ],
            "text/html": [
              "<div id=\"id_1\"> </div>"
            ]
          },
          "metadata": {}
        },
        {
          "output_type": "display_data",
          "data": {
            "application/javascript": [
              "\n",
              "(function(root) {\n",
              "  function now() {\n",
              "    return new Date();\n",
              "  }\n",
              "\n",
              "  var force = true;\n",
              "\n",
              "  if (typeof root._bokeh_onload_callbacks === \"undefined\" || force === true) {\n",
              "    root._bokeh_onload_callbacks = [];\n",
              "    root._bokeh_is_loading = undefined;\n",
              "  }\n",
              "\n",
              "  var JS_MIME_TYPE = 'application/javascript';\n",
              "  var HTML_MIME_TYPE = 'text/html';\n",
              "  var EXEC_MIME_TYPE = 'application/vnd.bokehjs_exec.v0+json';\n",
              "  var CLASS_NAME = 'output_bokeh rendered_html';\n",
              "\n",
              "  /**\n",
              "   * Render data to the DOM node\n",
              "   */\n",
              "  function render(props, node) {\n",
              "    var script = document.createElement(\"script\");\n",
              "    node.appendChild(script);\n",
              "  }\n",
              "\n",
              "  /**\n",
              "   * Handle when an output is cleared or removed\n",
              "   */\n",
              "  function handleClearOutput(event, handle) {\n",
              "    var cell = handle.cell;\n",
              "\n",
              "    var id = cell.output_area._bokeh_element_id;\n",
              "    var server_id = cell.output_area._bokeh_server_id;\n",
              "    // Clean up Bokeh references\n",
              "    if (id != null && id in Bokeh.index) {\n",
              "      Bokeh.index[id].model.document.clear();\n",
              "      delete Bokeh.index[id];\n",
              "    }\n",
              "\n",
              "    if (server_id !== undefined) {\n",
              "      // Clean up Bokeh references\n",
              "      var cmd = \"from bokeh.io.state import curstate; print(curstate().uuid_to_server['\" + server_id + \"'].get_sessions()[0].document.roots[0]._id)\";\n",
              "      cell.notebook.kernel.execute(cmd, {\n",
              "        iopub: {\n",
              "          output: function(msg) {\n",
              "            var id = msg.content.text.trim();\n",
              "            if (id in Bokeh.index) {\n",
              "              Bokeh.index[id].model.document.clear();\n",
              "              delete Bokeh.index[id];\n",
              "            }\n",
              "          }\n",
              "        }\n",
              "      });\n",
              "      // Destroy server and session\n",
              "      var cmd = \"import bokeh.io.notebook as ion; ion.destroy_server('\" + server_id + \"')\";\n",
              "      cell.notebook.kernel.execute(cmd);\n",
              "    }\n",
              "  }\n",
              "\n",
              "  /**\n",
              "   * Handle when a new output is added\n",
              "   */\n",
              "  function handleAddOutput(event, handle) {\n",
              "    var output_area = handle.output_area;\n",
              "    var output = handle.output;\n",
              "\n",
              "    // limit handleAddOutput to display_data with EXEC_MIME_TYPE content only\n",
              "    if ((output.output_type != \"display_data\") || (!Object.prototype.hasOwnProperty.call(output.data, EXEC_MIME_TYPE))) {\n",
              "      return\n",
              "    }\n",
              "\n",
              "    var toinsert = output_area.element.find(\".\" + CLASS_NAME.split(' ')[0]);\n",
              "\n",
              "    if (output.metadata[EXEC_MIME_TYPE][\"id\"] !== undefined) {\n",
              "      toinsert[toinsert.length - 1].firstChild.textContent = output.data[JS_MIME_TYPE];\n",
              "      // store reference to embed id on output_area\n",
              "      output_area._bokeh_element_id = output.metadata[EXEC_MIME_TYPE][\"id\"];\n",
              "    }\n",
              "    if (output.metadata[EXEC_MIME_TYPE][\"server_id\"] !== undefined) {\n",
              "      var bk_div = document.createElement(\"div\");\n",
              "      bk_div.innerHTML = output.data[HTML_MIME_TYPE];\n",
              "      var script_attrs = bk_div.children[0].attributes;\n",
              "      for (var i = 0; i < script_attrs.length; i++) {\n",
              "        toinsert[toinsert.length - 1].firstChild.setAttribute(script_attrs[i].name, script_attrs[i].value);\n",
              "        toinsert[toinsert.length - 1].firstChild.textContent = bk_div.children[0].textContent\n",
              "      }\n",
              "      // store reference to server id on output_area\n",
              "      output_area._bokeh_server_id = output.metadata[EXEC_MIME_TYPE][\"server_id\"];\n",
              "    }\n",
              "  }\n",
              "\n",
              "  function register_renderer(events, OutputArea) {\n",
              "\n",
              "    function append_mime(data, metadata, element) {\n",
              "      // create a DOM node to render to\n",
              "      var toinsert = this.create_output_subarea(\n",
              "        metadata,\n",
              "        CLASS_NAME,\n",
              "        EXEC_MIME_TYPE\n",
              "      );\n",
              "      this.keyboard_manager.register_events(toinsert);\n",
              "      // Render to node\n",
              "      var props = {data: data, metadata: metadata[EXEC_MIME_TYPE]};\n",
              "      render(props, toinsert[toinsert.length - 1]);\n",
              "      element.append(toinsert);\n",
              "      return toinsert\n",
              "    }\n",
              "\n",
              "    /* Handle when an output is cleared or removed */\n",
              "    events.on('clear_output.CodeCell', handleClearOutput);\n",
              "    events.on('delete.Cell', handleClearOutput);\n",
              "\n",
              "    /* Handle when a new output is added */\n",
              "    events.on('output_added.OutputArea', handleAddOutput);\n",
              "\n",
              "    /**\n",
              "     * Register the mime type and append_mime function with output_area\n",
              "     */\n",
              "    OutputArea.prototype.register_mime_type(EXEC_MIME_TYPE, append_mime, {\n",
              "      /* Is output safe? */\n",
              "      safe: true,\n",
              "      /* Index of renderer in `output_area.display_order` */\n",
              "      index: 0\n",
              "    });\n",
              "  }\n",
              "\n",
              "  // register the mime type if in Jupyter Notebook environment and previously unregistered\n",
              "  if (root.Jupyter !== undefined) {\n",
              "    var events = require('base/js/events');\n",
              "    var OutputArea = require('notebook/js/outputarea').OutputArea;\n",
              "\n",
              "    if (OutputArea.prototype.mime_types().indexOf(EXEC_MIME_TYPE) == -1) {\n",
              "      register_renderer(events, OutputArea);\n",
              "    }\n",
              "  }\n",
              "\n",
              "  \n",
              "  if (typeof (root._bokeh_timeout) === \"undefined\" || force === true) {\n",
              "    root._bokeh_timeout = Date.now() + 5000;\n",
              "    root._bokeh_failed_load = false;\n",
              "  }\n",
              "\n",
              "  var NB_LOAD_WARNING = {'data': {'text/html':\n",
              "     \"<div style='background-color: #fdd'>\\n\"+\n",
              "     \"<p>\\n\"+\n",
              "     \"BokehJS does not appear to have successfully loaded. If loading BokehJS from CDN, this \\n\"+\n",
              "     \"may be due to a slow or bad network connection. Possible fixes:\\n\"+\n",
              "     \"</p>\\n\"+\n",
              "     \"<ul>\\n\"+\n",
              "     \"<li>re-rerun `output_notebook()` to attempt to load from CDN again, or</li>\\n\"+\n",
              "     \"<li>use INLINE resources instead, as so:</li>\\n\"+\n",
              "     \"</ul>\\n\"+\n",
              "     \"<code>\\n\"+\n",
              "     \"from bokeh.resources import INLINE\\n\"+\n",
              "     \"output_notebook(resources=INLINE)\\n\"+\n",
              "     \"</code>\\n\"+\n",
              "     \"</div>\"}};\n",
              "\n",
              "  function display_loaded() {\n",
              "    var el = document.getElementById(null);\n",
              "    if (el != null) {\n",
              "      el.textContent = \"BokehJS is loading...\";\n",
              "    }\n",
              "    if (root.Bokeh !== undefined) {\n",
              "      if (el != null) {\n",
              "        el.textContent = \"BokehJS \" + root.Bokeh.version + \" successfully loaded.\";\n",
              "      }\n",
              "    } else if (Date.now() < root._bokeh_timeout) {\n",
              "      setTimeout(display_loaded, 100)\n",
              "    }\n",
              "  }\n",
              "\n",
              "\n",
              "  function run_callbacks() {\n",
              "    try {\n",
              "      root._bokeh_onload_callbacks.forEach(function(callback) {\n",
              "        if (callback != null)\n",
              "          callback();\n",
              "      });\n",
              "    } finally {\n",
              "      delete root._bokeh_onload_callbacks\n",
              "    }\n",
              "    console.debug(\"Bokeh: all callbacks have finished\");\n",
              "  }\n",
              "\n",
              "  function load_libs(css_urls, js_urls, callback) {\n",
              "    if (css_urls == null) css_urls = [];\n",
              "    if (js_urls == null) js_urls = [];\n",
              "\n",
              "    root._bokeh_onload_callbacks.push(callback);\n",
              "    if (root._bokeh_is_loading > 0) {\n",
              "      console.debug(\"Bokeh: BokehJS is being loaded, scheduling callback at\", now());\n",
              "      return null;\n",
              "    }\n",
              "    if (js_urls == null || js_urls.length === 0) {\n",
              "      run_callbacks();\n",
              "      return null;\n",
              "    }\n",
              "    console.debug(\"Bokeh: BokehJS not loaded, scheduling load and callback at\", now());\n",
              "    root._bokeh_is_loading = css_urls.length + js_urls.length;\n",
              "\n",
              "    function on_load() {\n",
              "      root._bokeh_is_loading--;\n",
              "      if (root._bokeh_is_loading === 0) {\n",
              "        console.debug(\"Bokeh: all BokehJS libraries/stylesheets loaded\");\n",
              "        run_callbacks()\n",
              "      }\n",
              "    }\n",
              "\n",
              "    function on_error(url) {\n",
              "      console.error(\"failed to load \" + url);\n",
              "    }\n",
              "\n",
              "    for (let i = 0; i < css_urls.length; i++) {\n",
              "      const url = css_urls[i];\n",
              "      const element = document.createElement(\"link\");\n",
              "      element.onload = on_load;\n",
              "      element.onerror = on_error.bind(null, url);\n",
              "      element.rel = \"stylesheet\";\n",
              "      element.type = \"text/css\";\n",
              "      element.href = url;\n",
              "      console.debug(\"Bokeh: injecting link tag for BokehJS stylesheet: \", url);\n",
              "      document.body.appendChild(element);\n",
              "    }\n",
              "\n",
              "    const hashes = {\"https://cdn.bokeh.org/bokeh/release/bokeh-2.3.3.min.js\": \"dM3QQsP+wXdHg42wTqW85BjZQdLNNIXqlPw/BgKoExPmTG7ZLML4EGqLMfqHT6ON\", \"https://cdn.bokeh.org/bokeh/release/bokeh-tables-2.3.3.min.js\": \"8x57I4YuIfu8XyZfFo0XVr2WAT8EK4rh/uDe3wF7YuW2FNUSNEpJbsPaB1nJ2fz2\", \"https://cdn.bokeh.org/bokeh/release/bokeh-widgets-2.3.3.min.js\": \"3QTqdz9LyAm2i0sG5XTePsHec3UHWwVsrOL68SYRoAXsafvfAyqtQ+h440+qIBhS\"};\n",
              "\n",
              "    for (let i = 0; i < js_urls.length; i++) {\n",
              "      const url = js_urls[i];\n",
              "      const element = document.createElement('script');\n",
              "      element.onload = on_load;\n",
              "      element.onerror = on_error.bind(null, url);\n",
              "      element.async = false;\n",
              "      element.src = url;\n",
              "      if (url in hashes) {\n",
              "        element.crossOrigin = \"anonymous\";\n",
              "        element.integrity = \"sha384-\" + hashes[url];\n",
              "      }\n",
              "      console.debug(\"Bokeh: injecting script tag for BokehJS library: \", url);\n",
              "      document.head.appendChild(element);\n",
              "    }\n",
              "  };\n",
              "\n",
              "  function inject_raw_css(css) {\n",
              "    const element = document.createElement(\"style\");\n",
              "    element.appendChild(document.createTextNode(css));\n",
              "    document.body.appendChild(element);\n",
              "  }\n",
              "\n",
              "  \n",
              "  var js_urls = [\"https://cdn.bokeh.org/bokeh/release/bokeh-2.3.3.min.js\", \"https://cdn.bokeh.org/bokeh/release/bokeh-widgets-2.3.3.min.js\", \"https://cdn.bokeh.org/bokeh/release/bokeh-tables-2.3.3.min.js\"];\n",
              "  var css_urls = [];\n",
              "  \n",
              "\n",
              "  var inline_js = [\n",
              "    function(Bokeh) {\n",
              "      Bokeh.set_log_level(\"info\");\n",
              "    },\n",
              "    function(Bokeh) {\n",
              "    \n",
              "    \n",
              "    }\n",
              "  ];\n",
              "\n",
              "  function run_inline_js() {\n",
              "    \n",
              "    if (root.Bokeh !== undefined || force === true) {\n",
              "      \n",
              "    for (var i = 0; i < inline_js.length; i++) {\n",
              "      inline_js[i].call(root, root.Bokeh);\n",
              "    }\n",
              "    } else if (Date.now() < root._bokeh_timeout) {\n",
              "      setTimeout(run_inline_js, 100);\n",
              "    } else if (!root._bokeh_failed_load) {\n",
              "      console.log(\"Bokeh: BokehJS failed to load within specified timeout.\");\n",
              "      root._bokeh_failed_load = true;\n",
              "    } else if (force !== true) {\n",
              "      var cell = $(document.getElementById(null)).parents('.cell').data().cell;\n",
              "      cell.output_area.append_execute_result(NB_LOAD_WARNING)\n",
              "    }\n",
              "\n",
              "  }\n",
              "\n",
              "  if (root._bokeh_is_loading === 0) {\n",
              "    console.debug(\"Bokeh: BokehJS loaded, going straight to plotting\");\n",
              "    run_inline_js();\n",
              "  } else {\n",
              "    load_libs(css_urls, js_urls, function() {\n",
              "      console.debug(\"Bokeh: BokehJS plotting callback run at\", now());\n",
              "      run_inline_js();\n",
              "    });\n",
              "  }\n",
              "}(window));"
            ],
            "application/vnd.bokehjs_load.v0+json": "\n(function(root) {\n  function now() {\n    return new Date();\n  }\n\n  var force = true;\n\n  if (typeof root._bokeh_onload_callbacks === \"undefined\" || force === true) {\n    root._bokeh_onload_callbacks = [];\n    root._bokeh_is_loading = undefined;\n  }\n\n  \n\n  \n  if (typeof (root._bokeh_timeout) === \"undefined\" || force === true) {\n    root._bokeh_timeout = Date.now() + 5000;\n    root._bokeh_failed_load = false;\n  }\n\n  var NB_LOAD_WARNING = {'data': {'text/html':\n     \"<div style='background-color: #fdd'>\\n\"+\n     \"<p>\\n\"+\n     \"BokehJS does not appear to have successfully loaded. If loading BokehJS from CDN, this \\n\"+\n     \"may be due to a slow or bad network connection. Possible fixes:\\n\"+\n     \"</p>\\n\"+\n     \"<ul>\\n\"+\n     \"<li>re-rerun `output_notebook()` to attempt to load from CDN again, or</li>\\n\"+\n     \"<li>use INLINE resources instead, as so:</li>\\n\"+\n     \"</ul>\\n\"+\n     \"<code>\\n\"+\n     \"from bokeh.resources import INLINE\\n\"+\n     \"output_notebook(resources=INLINE)\\n\"+\n     \"</code>\\n\"+\n     \"</div>\"}};\n\n  function display_loaded() {\n    var el = document.getElementById(null);\n    if (el != null) {\n      el.textContent = \"BokehJS is loading...\";\n    }\n    if (root.Bokeh !== undefined) {\n      if (el != null) {\n        el.textContent = \"BokehJS \" + root.Bokeh.version + \" successfully loaded.\";\n      }\n    } else if (Date.now() < root._bokeh_timeout) {\n      setTimeout(display_loaded, 100)\n    }\n  }\n\n\n  function run_callbacks() {\n    try {\n      root._bokeh_onload_callbacks.forEach(function(callback) {\n        if (callback != null)\n          callback();\n      });\n    } finally {\n      delete root._bokeh_onload_callbacks\n    }\n    console.debug(\"Bokeh: all callbacks have finished\");\n  }\n\n  function load_libs(css_urls, js_urls, callback) {\n    if (css_urls == null) css_urls = [];\n    if (js_urls == null) js_urls = [];\n\n    root._bokeh_onload_callbacks.push(callback);\n    if (root._bokeh_is_loading > 0) {\n      console.debug(\"Bokeh: BokehJS is being loaded, scheduling callback at\", now());\n      return null;\n    }\n    if (js_urls == null || js_urls.length === 0) {\n      run_callbacks();\n      return null;\n    }\n    console.debug(\"Bokeh: BokehJS not loaded, scheduling load and callback at\", now());\n    root._bokeh_is_loading = css_urls.length + js_urls.length;\n\n    function on_load() {\n      root._bokeh_is_loading--;\n      if (root._bokeh_is_loading === 0) {\n        console.debug(\"Bokeh: all BokehJS libraries/stylesheets loaded\");\n        run_callbacks()\n      }\n    }\n\n    function on_error(url) {\n      console.error(\"failed to load \" + url);\n    }\n\n    for (let i = 0; i < css_urls.length; i++) {\n      const url = css_urls[i];\n      const element = document.createElement(\"link\");\n      element.onload = on_load;\n      element.onerror = on_error.bind(null, url);\n      element.rel = \"stylesheet\";\n      element.type = \"text/css\";\n      element.href = url;\n      console.debug(\"Bokeh: injecting link tag for BokehJS stylesheet: \", url);\n      document.body.appendChild(element);\n    }\n\n    const hashes = {\"https://cdn.bokeh.org/bokeh/release/bokeh-2.3.3.min.js\": \"dM3QQsP+wXdHg42wTqW85BjZQdLNNIXqlPw/BgKoExPmTG7ZLML4EGqLMfqHT6ON\", \"https://cdn.bokeh.org/bokeh/release/bokeh-tables-2.3.3.min.js\": \"8x57I4YuIfu8XyZfFo0XVr2WAT8EK4rh/uDe3wF7YuW2FNUSNEpJbsPaB1nJ2fz2\", \"https://cdn.bokeh.org/bokeh/release/bokeh-widgets-2.3.3.min.js\": \"3QTqdz9LyAm2i0sG5XTePsHec3UHWwVsrOL68SYRoAXsafvfAyqtQ+h440+qIBhS\"};\n\n    for (let i = 0; i < js_urls.length; i++) {\n      const url = js_urls[i];\n      const element = document.createElement('script');\n      element.onload = on_load;\n      element.onerror = on_error.bind(null, url);\n      element.async = false;\n      element.src = url;\n      if (url in hashes) {\n        element.crossOrigin = \"anonymous\";\n        element.integrity = \"sha384-\" + hashes[url];\n      }\n      console.debug(\"Bokeh: injecting script tag for BokehJS library: \", url);\n      document.head.appendChild(element);\n    }\n  };\n\n  function inject_raw_css(css) {\n    const element = document.createElement(\"style\");\n    element.appendChild(document.createTextNode(css));\n    document.body.appendChild(element);\n  }\n\n  \n  var js_urls = [\"https://cdn.bokeh.org/bokeh/release/bokeh-2.3.3.min.js\", \"https://cdn.bokeh.org/bokeh/release/bokeh-widgets-2.3.3.min.js\", \"https://cdn.bokeh.org/bokeh/release/bokeh-tables-2.3.3.min.js\"];\n  var css_urls = [];\n  \n\n  var inline_js = [\n    function(Bokeh) {\n      Bokeh.set_log_level(\"info\");\n    },\n    function(Bokeh) {\n    \n    \n    }\n  ];\n\n  function run_inline_js() {\n    \n    if (root.Bokeh !== undefined || force === true) {\n      \n    for (var i = 0; i < inline_js.length; i++) {\n      inline_js[i].call(root, root.Bokeh);\n    }\n    } else if (Date.now() < root._bokeh_timeout) {\n      setTimeout(run_inline_js, 100);\n    } else if (!root._bokeh_failed_load) {\n      console.log(\"Bokeh: BokehJS failed to load within specified timeout.\");\n      root._bokeh_failed_load = true;\n    } else if (force !== true) {\n      var cell = $(document.getElementById(null)).parents('.cell').data().cell;\n      cell.output_area.append_execute_result(NB_LOAD_WARNING)\n    }\n\n  }\n\n  if (root._bokeh_is_loading === 0) {\n    console.debug(\"Bokeh: BokehJS loaded, going straight to plotting\");\n    run_inline_js();\n  } else {\n    load_libs(css_urls, js_urls, function() {\n      console.debug(\"Bokeh: BokehJS plotting callback run at\", now());\n      run_inline_js();\n    });\n  }\n}(window));"
          },
          "metadata": {}
        },
        {
          "output_type": "display_data",
          "data": {
            "text/html": [
              "\n",
              "\n",
              "\n",
              "\n",
              "\n",
              "\n",
              "  <div class=\"bk-root\" id=\"d861601c-7248-463e-b2b6-203597e20874\" data-root-id=\"1002\"></div>\n"
            ]
          },
          "metadata": {}
        },
        {
          "output_type": "display_data",
          "data": {
            "application/javascript": [
              "(function(root) {\n",
              "  function embed_document(root) {\n",
              "    \n",
              "  var docs_json = {\"26bae712-4748-4b0c-b0e1-822b19d0556c\":{\"defs\":[],\"roots\":{\"references\":[{\"attributes\":{\"below\":[{\"id\":\"1011\"}],\"center\":[{\"id\":\"1014\"},{\"id\":\"1018\"}],\"height\":200,\"left\":[{\"id\":\"1015\"}],\"renderers\":[{\"id\":\"1038\"}],\"title\":{\"id\":\"1041\"},\"toolbar\":{\"id\":\"1025\"},\"width\":500,\"x_range\":{\"id\":\"1003\"},\"x_scale\":{\"id\":\"1007\"},\"y_range\":{\"id\":\"1005\"},\"y_scale\":{\"id\":\"1009\"}},\"id\":\"1002\",\"subtype\":\"Figure\",\"type\":\"Plot\"},{\"attributes\":{},\"id\":\"1046\",\"type\":\"BasicTickFormatter\"},{\"attributes\":{},\"id\":\"1044\",\"type\":\"AllLabels\"},{\"attributes\":{\"callback\":null,\"tooltips\":[[\"pitch\",\"@pitch\"],[\"program\",\"@program\"],[\"velo\",\"@velocity\"],[\"duration\",\"@duration\"],[\"start_time\",\"@start_time\"],[\"end_time\",\"@end_time\"],[\"velocity\",\"@velocity\"],[\"fill_alpha\",\"@fill_alpha\"]]},\"id\":\"1019\",\"type\":\"HoverTool\"},{\"attributes\":{},\"id\":\"1047\",\"type\":\"Selection\"},{\"attributes\":{},\"id\":\"1007\",\"type\":\"LinearScale\"},{\"attributes\":{},\"id\":\"1020\",\"type\":\"PanTool\"},{\"attributes\":{},\"id\":\"1043\",\"type\":\"BasicTickFormatter\"},{\"attributes\":{\"interval\":12},\"id\":\"1033\",\"type\":\"SingleIntervalTicker\"},{\"attributes\":{\"overlay\":{\"id\":\"1024\"}},\"id\":\"1021\",\"type\":\"BoxZoomTool\"},{\"attributes\":{\"bottom_units\":\"screen\",\"fill_alpha\":0.5,\"fill_color\":\"lightgrey\",\"left_units\":\"screen\",\"level\":\"overlay\",\"line_alpha\":1.0,\"line_color\":\"black\",\"line_dash\":[4,4],\"line_width\":2,\"right_units\":\"screen\",\"syncable\":false,\"top_units\":\"screen\"},\"id\":\"1024\",\"type\":\"BoxAnnotation\"},{\"attributes\":{},\"id\":\"1003\",\"type\":\"DataRange1d\"},{\"attributes\":{\"bottom\":{\"field\":\"bottom\"},\"fill_alpha\":{\"value\":0.1},\"fill_color\":{\"value\":\"#d53e4f\"},\"left\":{\"field\":\"start_time\"},\"line_alpha\":{\"value\":0.1},\"right\":{\"field\":\"end_time\"},\"top\":{\"field\":\"top\"}},\"id\":\"1037\",\"type\":\"Quad\"},{\"attributes\":{},\"id\":\"1009\",\"type\":\"LinearScale\"},{\"attributes\":{},\"id\":\"1005\",\"type\":\"DataRange1d\"},{\"attributes\":{},\"id\":\"1022\",\"type\":\"ResetTool\"},{\"attributes\":{\"active_multi\":null,\"tools\":[{\"id\":\"1019\"},{\"id\":\"1020\"},{\"id\":\"1021\"},{\"id\":\"1022\"},{\"id\":\"1023\"}]},\"id\":\"1025\",\"type\":\"Toolbar\"},{\"attributes\":{},\"id\":\"1048\",\"type\":\"UnionRenderers\"},{\"attributes\":{\"axis_label\":\"time (sec)\",\"formatter\":{\"id\":\"1046\"},\"major_label_policy\":{\"id\":\"1044\"},\"ticker\":{\"id\":\"1012\"}},\"id\":\"1011\",\"type\":\"LinearAxis\"},{\"attributes\":{\"bottom\":{\"field\":\"bottom\"},\"fill_alpha\":{\"field\":\"fill_alpha\"},\"fill_color\":{\"value\":\"#d53e4f\"},\"left\":{\"field\":\"start_time\"},\"right\":{\"field\":\"end_time\"},\"top\":{\"field\":\"top\"}},\"id\":\"1036\",\"type\":\"Quad\"},{\"attributes\":{},\"id\":\"1023\",\"type\":\"SaveTool\"},{\"attributes\":{},\"id\":\"1012\",\"type\":\"BasicTicker\"},{\"attributes\":{\"data_source\":{\"id\":\"1034\"},\"glyph\":{\"id\":\"1036\"},\"hover_glyph\":null,\"muted_glyph\":null,\"nonselection_glyph\":{\"id\":\"1037\"},\"view\":{\"id\":\"1039\"}},\"id\":\"1038\",\"type\":\"GlyphRenderer\"},{\"attributes\":{\"axis\":{\"id\":\"1011\"},\"ticker\":null},\"id\":\"1014\",\"type\":\"Grid\"},{\"attributes\":{\"interval\":12},\"id\":\"1031\",\"type\":\"SingleIntervalTicker\"},{\"attributes\":{\"axis\":{\"id\":\"1015\"},\"dimension\":1,\"ticker\":{\"id\":\"1033\"}},\"id\":\"1018\",\"type\":\"Grid\"},{\"attributes\":{\"axis_label\":\"pitch (MIDI)\",\"formatter\":{\"id\":\"1043\"},\"major_label_policy\":{\"id\":\"1042\"},\"ticker\":{\"id\":\"1031\"}},\"id\":\"1015\",\"type\":\"LinearAxis\"},{\"attributes\":{},\"id\":\"1042\",\"type\":\"AllLabels\"},{\"attributes\":{\"data\":{\"bottom\":{\"__ndarray__\":\"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\",\"dtype\":\"float64\",\"order\":\"little\",\"shape\":[242]},\"duration\":{\"__ndarray__\":\"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\",\"dtype\":\"float64\",\"order\":\"little\",\"shape\":[242]},\"end_time\":{\"__ndarray__\":\"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\",\"dtype\":\"float64\",\"order\":\"little\",\"shape\":[242]},\"fill_alpha\":{\"__ndarray__\":\"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\",\"dtype\":\"float64\",\"order\":\"little\",\"shape\":[242]},\"index\":[0,1,2,3,4,5,6,7,8,9,10,11,12,13,14,15,16,17,18,19,20,21,22,23,24,25,26,27,28,29,30,31,32,33,34,35,36,37,38,39,40,41,42,43,44,45,46,47,48,49,50,51,52,53,54,55,56,57,58,59,60,61,62,63,64,65,66,67,68,69,70,71,72,73,74,75,76,77,78,79,80,81,82,83,84,85,86,87,88,89,90,91,92,93,94,95,96,97,98,99,100,101,102,103,104,105,106,107,108,109,110,111,112,113,114,115,116,117,118,119,120,121,122,123,124,125,126,127,128,129,130,131,132,133,134,135,136,137,138,139,140,141,142,143,144,145,146,147,148,149,150,151,152,153,154,155,156,157,158,159,160,161,162,163,164,165,166,167,168,169,170,171,172,173,174,175,176,177,178,179,180,181,182,183,184,185,186,187,188,189,190,191,192,193,194,195,196,197,198,199,200,201,202,203,204,205,206,207,208,209,210,211,212,213,214,215,216,217,218,219,220,221,222,223,224,225,226,227,228,229,230,231,232,233,234,235,236,237,238,239,240,241],\"instrument\":[1,1,1,1,1,1,1,1,1,1,1,1,1,1,1,1,1,1,1,1,1,1,1,1,1,1,1,1,1,1,1,1,1,1,1,1,1,1,1,1,1,1,1,1,1,1,1,1,1,1,1,1,1,1,1,1,1,1,1,1,1,1,1,1,1,1,1,1,1,1,1,1,1,1,1,1,1,1,1,1,1,1,1,1,1,1,1,1,1,1,1,1,1,1,1,1,1,1,1,1,1,1,1,1,1,1,1,1,1,1,1,1,1,1,1,1,1,1,1,1,1,1,1,1,1,1,1,1,1,1,1,1,1,1,1,1,1,1,1,1,1,1,1,1,1,1,1,1,1,1,1,1,1,1,1,1,1,1,1,1,1,1,1,1,1,1,1,1,1,1,1,1,1,1,1,1,1,1,1,1,1,1,1,1,1,1,1,1,1,1,1,1,1,1,1,1,1,1,1,1,1,1,1,1,1,1,1,1,1,1,1,1,1,1,1,1,1,1,1,1,1,1,1,1,1,1,1,1,1,1,1,1,1,1,1,1,1,1,1,1,1,1],\"pitch\":[69,76,74,76,72,74,76,79,81,79,72,75,79,74,67,69,67,67,69,72,74,69,72,74,75,74,72,74,72,70,72,77,79,82,84,79,77,82,79,72,75,74,74,72,70,72,69,72,72,72,75,72,72,75,77,79,82,84,87,86,86,84,82,80,79,77,75,75,77,77,79,72,75,77,77,68,72,60,63,62,65,70,67,67,67,65,63,67,72,75,74,72,70,68,67,65,63,62,64,68,75,72,75,70,67,72,75,72,68,67,65,70,72,67,72,75,74,72,70,68,67,67,65,60,67,72,75,74,72,70,68,67,65,63,62,65,67,68,72,75,70,72,75,74,72,67,65,63,60,63,62,65,70,67,60,63,65,65,70,67,67,70,72,72,72,75,74,72,70,68,67,65,63,72,70,72,72,72,75,74,77,79,80,79,77,75,74,72,70,68,67,65,63,60,63,65,65,67,63,65,67,68,79,77,75,74,72,70,68,67,65,60,67,60,63,62,65,72,79,77,82,79,82,77,70,67,67,70,72,72,72,75,74,72,70,68,67,65,63,67,65,63],\"program\":[0,0,0,0,0,0,0,0,0,0,0,0,0,0,0,0,0,0,0,0,0,0,0,0,0,0,0,0,0,0,0,0,0,0,0,0,0,0,0,0,0,0,0,0,0,0,0,0,0,0,0,0,0,0,0,0,0,0,0,0,0,0,0,0,0,0,0,0,0,0,0,0,0,0,0,0,0,0,0,0,0,0,0,0,0,0,0,0,0,0,0,0,0,0,0,0,0,0,0,0,0,0,0,0,0,0,0,0,0,0,0,0,0,0,0,0,0,0,0,0,0,0,0,0,0,0,0,0,0,0,0,0,0,0,0,0,0,0,0,0,0,0,0,0,0,0,0,0,0,0,0,0,0,0,0,0,0,0,0,0,0,0,0,0,0,0,0,0,0,0,0,0,0,0,0,0,0,0,0,0,0,0,0,0,0,0,0,0,0,0,0,0,0,0,0,0,0,0,0,0,0,0,0,0,0,0,0,0,0,0,0,0,0,0,0,0,0,0,0,0,0,0,0,0,0,0,0,0,0,0,0,0,0,0,0,0,0,0,0,0,0,0],\"start_time\":{\"__ndarray__\":\"AAAAAAAAAAAAAAAAAADQPwAAAAAAAPg/AAAAAAAA/D8AAAAAAAAAQAAAAAAAAAxAAAAAAAAADkAAAAAAAAAQQAAAAAAAABZAAAAAAAAAF0AAAAAAAIAhQAAAAAAAACJAAAAAAACAIkAAAAAAAAAjQAAAAAAAACZAAAAAAAAAJ0AAAAAAAAApQAAAAAAAgClAAAAAAAAAKkAAAAAAAIAqQAAAAAAAgCtAAAAAAACALEAAAAAAAIAuQAAAAAAAAC9AAAAAAACAL0AAAAAAAIAwQAAAAAAAwDBAAAAAAABAMUAAAAAAAMAxQAAAAAAAQDNAAAAAAACAM0AAAAAAAAA0QAAAAAAAgDRAAAAAAADANEAAAAAAAAA1QAAAAAAAADZAAAAAAACANkAAAAAAAMA2QAAAAAAAQDhAAAAAAACAOUAAAAAAAMA5QAAAAAAAADpAAAAAAADAOkAAAAAAAAA7QAAAAAAAgDtAAAAAAAAAPEAAAAAAAAA9QAAAAAAAQD1AAAAAAADAPUAAAAAAAMA+QAAAAAAAwD9AAAAAAABgQEAAAAAAAGBBQAAAAAAA4EFAAAAAAABgQkAAAAAAAIBCQAAAAAAAoEJAAAAAAADgQkAAAAAAAKBDQAAAAAAA4ENAAAAAAABAREAAAAAAAGBEQAAAAAAA4ERAAAAAAAAgRUAAAAAAAEBFQAAAAAAAYEVAAAAAAACARUAAAAAAACBGQAAAAAAAQEZAAAAAAACARkAAAAAAAKBGQAAAAAAAQEdAAAAAAABgR0AAAAAAAIBHQAAAAAAAwEdAAAAAAACgSEAAAAAAAMBIQAAAAAAAYElAAAAAAACASUAAAAAAAKBJQAAAAAAA4ElAAAAAAAAASkAAAAAAACBKQAAAAAAA4EpAAAAAAAAgS0AAAAAAAEBLQAAAAAAAYEtAAAAAAACAS0AAAAAAAKBLQAAAAAAAwEtAAAAAAADgS0AAAAAAAEBMQAAAAAAAYExAAAAAAACATEAAAAAAAKBMQAAAAAAAwExAAAAAAADgTEAAAAAAAABNQAAAAAAAIE1AAAAAAABATUAAAAAAAGBNQAAAAAAAoE1AAAAAAADATUAAAAAAAOBNQAAAAAAAoE5AAAAAAADATkAAAAAAAOBOQAAAAAAAIE9AZmZmZmYGUEBmZmZmZiZQQGZmZmZmNlBAZmZmZmZGUEBmZmZmZlZQQGZmZmZmllBAZmZmZmamUEBmZmZmZrZQQGZmZmZmxlBAZmZmZmbWUEBmZmZmZuZQQGZmZmZm9lBAZmZmZmYGUUBmZmZmZhZRQGZmZmZmJlFAZmZmZmY2UUBmZmZmZkZRQGZmZmZmVlFAZmZmZmZmUUBmZmZmZnZRQGZmZmZmhlFAZmZmZmaWUUBmZmZmZqZRQGZmZmZmtlFAZmZmZmbGUUBmZmZmZtZRQGZmZmZm5lFAZmZmZmb2UUBmZmZmZgZSQGZmZmZmFlJAZmZmZmYmUkBmZmZmZjZSQGZmZmZmRlJAZmZmZmZWUkBmZmZmZnZSQGZmZmZmllJAZmZmZmamUkBmZmZmZrZSQGZmZmZmxlJAZmZmZmbWUkBmZmZmZjZTQGZmZmZmRlNAZmZmZmZWU0BmZmZmZmZTQGZmZmZmdlNAZmZmZmaGU0BmZmZmZgZUQGZmZmZmFlRAZmZmZmYmVEBmZmZmZkZUQGZmZmZmVlRAZmZmZmZmVEBmZmZmZoZUQGZmZmZmllRAZmZmZmamVEBmZmZmZrZUQGZmZmZmxlRAZmZmZmbWVEBmZmZmZuZUQGZmZmZm9lRAZmZmZmYGVUBmZmZmZhZVQGZmZmZmJlVAZmZmZmY2VUBmZmZmZkZVQGZmZmZmBlZAZmZmZmYWVkBmZmZmZiZWQGZmZmZmRlZAZmZmZmZWVkBmZmZmZmZWQGZmZmZmdlZAZmZmZmaGVkBmZmZmZqZWQGZmZmZmtlZAZmZmZmbGVkBmZmZmZuZWQGZmZmZm9lZAZmZmZmYGV0BmZmZmZhZXQGZmZmZmJldAZmZmZmY2V0BmZmZmZkZXQGZmZmZmVldAZmZmZmZmV0BmZmZmZiZYQGZmZmZmNlhAZmZmZmZGWEBmZmZmZmZYQGZmZmZmdlhAZmZmZmaGWEBmZmZmZpZYQGZmZmZmplhAZmZmZma2WEBmZmZmZsZYQGZmZmZm1lhAZmZmZmbmWEBmZmZmZvZYQGZmZmZmBllAZmZmZmYWWUBmZmZmZiZZQGZmZmZmNllAZmZmZmZGWUBmZmZmZlZZQGZmZmZmZllAZmZmZmaGWUBmZmZmZpZZQGZmZmZmpllAZmZmZma2WUBmZmZmZsZZQGZmZmZm1llAZmZmZmb2WUBmZmZmZgZaQGZmZmZmFlpAZmZmZmY2WkBmZmZmZkZaQGZmZmZmVlpAZmZmZmZmWkBmZmZmZoZaQGZmZmZmllpAZmZmZmamWkBmZmZmZsZaQGZmZmZm5lpAZmZmZmb2WkBmZmZmZgZbQGZmZmZmFltAZmZmZmYmW0BmZmZmZjZbQGZmZmZmRltAZmZmZmZWW0BmZmZmZmZbQGZmZmZmdltAZmZmZmaWW0BmZmZmZqZbQA==\",\"dtype\":\"float64\",\"order\":\"little\",\"shape\":[242]},\"top\":{\"__ndarray__\":\"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\",\"dtype\":\"float64\",\"order\":\"little\",\"shape\":[242]},\"velocity\":[127,127,127,127,127,127,127,127,127,127,127,127,127,127,127,127,127,127,127,127,127,127,127,127,127,127,127,127,127,127,127,127,127,127,127,127,127,127,127,127,127,127,127,127,127,127,127,127,127,127,127,127,127,127,127,127,127,127,127,127,127,127,127,127,127,127,127,127,127,127,127,127,127,127,127,127,127,127,127,127,127,127,127,127,127,127,127,127,127,127,127,127,127,127,127,127,127,127,127,127,127,127,127,127,127,127,127,127,127,127,127,127,127,127,127,127,127,127,127,127,127,127,127,127,127,127,127,127,127,127,127,127,127,127,127,127,127,127,127,127,127,127,127,127,127,127,127,127,127,127,127,127,127,127,127,127,127,127,127,127,127,127,127,127,127,127,127,127,127,127,127,127,127,127,127,127,127,127,127,127,127,127,127,127,127,127,127,127,127,127,127,127,127,127,127,127,127,127,127,127,127,127,127,127,127,127,127,127,127,127,127,127,127,127,127,127,127,127,127,127,127,127,127,127,127,127,127,127,127,127,127,127,127,127,127,127,127,127,127,127,127,127]},\"selected\":{\"id\":\"1047\"},\"selection_policy\":{\"id\":\"1048\"}},\"id\":\"1034\",\"type\":\"ColumnDataSource\"},{\"attributes\":{\"source\":{\"id\":\"1034\"}},\"id\":\"1039\",\"type\":\"CDSView\"},{\"attributes\":{},\"id\":\"1041\",\"type\":\"Title\"}],\"root_ids\":[\"1002\"]},\"title\":\"Bokeh Application\",\"version\":\"2.3.3\"}};\n",
              "  var render_items = [{\"docid\":\"26bae712-4748-4b0c-b0e1-822b19d0556c\",\"root_ids\":[\"1002\"],\"roots\":{\"1002\":\"d861601c-7248-463e-b2b6-203597e20874\"}}];\n",
              "  root.Bokeh.embed.embed_items_notebook(docs_json, render_items);\n",
              "\n",
              "  }\n",
              "  if (root.Bokeh !== undefined) {\n",
              "    embed_document(root);\n",
              "  } else {\n",
              "    var attempts = 0;\n",
              "    var timer = setInterval(function(root) {\n",
              "      if (root.Bokeh !== undefined) {\n",
              "        clearInterval(timer);\n",
              "        embed_document(root);\n",
              "      } else {\n",
              "        attempts++;\n",
              "        if (attempts > 100) {\n",
              "          clearInterval(timer);\n",
              "          console.log(\"Bokeh: ERROR: Unable to run BokehJS code because BokehJS library is missing\");\n",
              "        }\n",
              "      }\n",
              "    }, 10, root)\n",
              "  }\n",
              "})(window);"
            ],
            "application/vnd.bokehjs_exec.v0+json": ""
          },
          "metadata": {
            "application/vnd.bokehjs_exec.v0+json": {
              "id": "1002"
            }
          }
        }
      ]
    },
    {
      "cell_type": "code",
      "metadata": {
        "id": "WnAZsIYsfXWV",
        "cellView": "form",
        "colab": {
          "base_uri": "https://localhost:8080/",
          "height": 275
        },
        "outputId": "fa70497a-3a48-4577-afd1-3417707389e4"
      },
      "source": [
        "#@title Generate Accompaniment for Melody\n",
        "#@markdown Generate a piano performance consisting of the chosen\n",
        "#@markdown melody plus accompaniment.\n",
        "\n",
        "# Generate sample events.\n",
        "decode_length = 4096\n",
        "sample_ids = next(melody_conditioned_samples)['outputs']\n",
        "\n",
        "# Decode to NoteSequence.\n",
        "midi_filename = decode(\n",
        "    sample_ids,\n",
        "    encoder=melody_conditioned_encoders['targets'])\n",
        "accompaniment_ns = note_seq.midi_file_to_note_sequence(midi_filename)\n",
        "\n",
        "# Play and plot.\n",
        "note_seq.play_sequence(\n",
        "    accompaniment_ns,\n",
        "    synth=note_seq.fluidsynth, sample_rate=SAMPLE_RATE, sf2_path=SF2_PATH)\n",
        "note_seq.plot_sequence(accompaniment_ns)"
      ],
      "execution_count": 5,
      "outputs": [
        {
          "output_type": "display_data",
          "data": {
            "text/plain": [
              "<IPython.core.display.HTML object>"
            ],
            "text/html": [
              "<div id=\"id_2\"> </div>"
            ]
          },
          "metadata": {}
        },
        {
          "output_type": "display_data",
          "data": {
            "application/javascript": [
              "\n",
              "(function(root) {\n",
              "  function now() {\n",
              "    return new Date();\n",
              "  }\n",
              "\n",
              "  var force = true;\n",
              "\n",
              "  if (typeof root._bokeh_onload_callbacks === \"undefined\" || force === true) {\n",
              "    root._bokeh_onload_callbacks = [];\n",
              "    root._bokeh_is_loading = undefined;\n",
              "  }\n",
              "\n",
              "  var JS_MIME_TYPE = 'application/javascript';\n",
              "  var HTML_MIME_TYPE = 'text/html';\n",
              "  var EXEC_MIME_TYPE = 'application/vnd.bokehjs_exec.v0+json';\n",
              "  var CLASS_NAME = 'output_bokeh rendered_html';\n",
              "\n",
              "  /**\n",
              "   * Render data to the DOM node\n",
              "   */\n",
              "  function render(props, node) {\n",
              "    var script = document.createElement(\"script\");\n",
              "    node.appendChild(script);\n",
              "  }\n",
              "\n",
              "  /**\n",
              "   * Handle when an output is cleared or removed\n",
              "   */\n",
              "  function handleClearOutput(event, handle) {\n",
              "    var cell = handle.cell;\n",
              "\n",
              "    var id = cell.output_area._bokeh_element_id;\n",
              "    var server_id = cell.output_area._bokeh_server_id;\n",
              "    // Clean up Bokeh references\n",
              "    if (id != null && id in Bokeh.index) {\n",
              "      Bokeh.index[id].model.document.clear();\n",
              "      delete Bokeh.index[id];\n",
              "    }\n",
              "\n",
              "    if (server_id !== undefined) {\n",
              "      // Clean up Bokeh references\n",
              "      var cmd = \"from bokeh.io.state import curstate; print(curstate().uuid_to_server['\" + server_id + \"'].get_sessions()[0].document.roots[0]._id)\";\n",
              "      cell.notebook.kernel.execute(cmd, {\n",
              "        iopub: {\n",
              "          output: function(msg) {\n",
              "            var id = msg.content.text.trim();\n",
              "            if (id in Bokeh.index) {\n",
              "              Bokeh.index[id].model.document.clear();\n",
              "              delete Bokeh.index[id];\n",
              "            }\n",
              "          }\n",
              "        }\n",
              "      });\n",
              "      // Destroy server and session\n",
              "      var cmd = \"import bokeh.io.notebook as ion; ion.destroy_server('\" + server_id + \"')\";\n",
              "      cell.notebook.kernel.execute(cmd);\n",
              "    }\n",
              "  }\n",
              "\n",
              "  /**\n",
              "   * Handle when a new output is added\n",
              "   */\n",
              "  function handleAddOutput(event, handle) {\n",
              "    var output_area = handle.output_area;\n",
              "    var output = handle.output;\n",
              "\n",
              "    // limit handleAddOutput to display_data with EXEC_MIME_TYPE content only\n",
              "    if ((output.output_type != \"display_data\") || (!Object.prototype.hasOwnProperty.call(output.data, EXEC_MIME_TYPE))) {\n",
              "      return\n",
              "    }\n",
              "\n",
              "    var toinsert = output_area.element.find(\".\" + CLASS_NAME.split(' ')[0]);\n",
              "\n",
              "    if (output.metadata[EXEC_MIME_TYPE][\"id\"] !== undefined) {\n",
              "      toinsert[toinsert.length - 1].firstChild.textContent = output.data[JS_MIME_TYPE];\n",
              "      // store reference to embed id on output_area\n",
              "      output_area._bokeh_element_id = output.metadata[EXEC_MIME_TYPE][\"id\"];\n",
              "    }\n",
              "    if (output.metadata[EXEC_MIME_TYPE][\"server_id\"] !== undefined) {\n",
              "      var bk_div = document.createElement(\"div\");\n",
              "      bk_div.innerHTML = output.data[HTML_MIME_TYPE];\n",
              "      var script_attrs = bk_div.children[0].attributes;\n",
              "      for (var i = 0; i < script_attrs.length; i++) {\n",
              "        toinsert[toinsert.length - 1].firstChild.setAttribute(script_attrs[i].name, script_attrs[i].value);\n",
              "        toinsert[toinsert.length - 1].firstChild.textContent = bk_div.children[0].textContent\n",
              "      }\n",
              "      // store reference to server id on output_area\n",
              "      output_area._bokeh_server_id = output.metadata[EXEC_MIME_TYPE][\"server_id\"];\n",
              "    }\n",
              "  }\n",
              "\n",
              "  function register_renderer(events, OutputArea) {\n",
              "\n",
              "    function append_mime(data, metadata, element) {\n",
              "      // create a DOM node to render to\n",
              "      var toinsert = this.create_output_subarea(\n",
              "        metadata,\n",
              "        CLASS_NAME,\n",
              "        EXEC_MIME_TYPE\n",
              "      );\n",
              "      this.keyboard_manager.register_events(toinsert);\n",
              "      // Render to node\n",
              "      var props = {data: data, metadata: metadata[EXEC_MIME_TYPE]};\n",
              "      render(props, toinsert[toinsert.length - 1]);\n",
              "      element.append(toinsert);\n",
              "      return toinsert\n",
              "    }\n",
              "\n",
              "    /* Handle when an output is cleared or removed */\n",
              "    events.on('clear_output.CodeCell', handleClearOutput);\n",
              "    events.on('delete.Cell', handleClearOutput);\n",
              "\n",
              "    /* Handle when a new output is added */\n",
              "    events.on('output_added.OutputArea', handleAddOutput);\n",
              "\n",
              "    /**\n",
              "     * Register the mime type and append_mime function with output_area\n",
              "     */\n",
              "    OutputArea.prototype.register_mime_type(EXEC_MIME_TYPE, append_mime, {\n",
              "      /* Is output safe? */\n",
              "      safe: true,\n",
              "      /* Index of renderer in `output_area.display_order` */\n",
              "      index: 0\n",
              "    });\n",
              "  }\n",
              "\n",
              "  // register the mime type if in Jupyter Notebook environment and previously unregistered\n",
              "  if (root.Jupyter !== undefined) {\n",
              "    var events = require('base/js/events');\n",
              "    var OutputArea = require('notebook/js/outputarea').OutputArea;\n",
              "\n",
              "    if (OutputArea.prototype.mime_types().indexOf(EXEC_MIME_TYPE) == -1) {\n",
              "      register_renderer(events, OutputArea);\n",
              "    }\n",
              "  }\n",
              "\n",
              "  \n",
              "  if (typeof (root._bokeh_timeout) === \"undefined\" || force === true) {\n",
              "    root._bokeh_timeout = Date.now() + 5000;\n",
              "    root._bokeh_failed_load = false;\n",
              "  }\n",
              "\n",
              "  var NB_LOAD_WARNING = {'data': {'text/html':\n",
              "     \"<div style='background-color: #fdd'>\\n\"+\n",
              "     \"<p>\\n\"+\n",
              "     \"BokehJS does not appear to have successfully loaded. If loading BokehJS from CDN, this \\n\"+\n",
              "     \"may be due to a slow or bad network connection. Possible fixes:\\n\"+\n",
              "     \"</p>\\n\"+\n",
              "     \"<ul>\\n\"+\n",
              "     \"<li>re-rerun `output_notebook()` to attempt to load from CDN again, or</li>\\n\"+\n",
              "     \"<li>use INLINE resources instead, as so:</li>\\n\"+\n",
              "     \"</ul>\\n\"+\n",
              "     \"<code>\\n\"+\n",
              "     \"from bokeh.resources import INLINE\\n\"+\n",
              "     \"output_notebook(resources=INLINE)\\n\"+\n",
              "     \"</code>\\n\"+\n",
              "     \"</div>\"}};\n",
              "\n",
              "  function display_loaded() {\n",
              "    var el = document.getElementById(null);\n",
              "    if (el != null) {\n",
              "      el.textContent = \"BokehJS is loading...\";\n",
              "    }\n",
              "    if (root.Bokeh !== undefined) {\n",
              "      if (el != null) {\n",
              "        el.textContent = \"BokehJS \" + root.Bokeh.version + \" successfully loaded.\";\n",
              "      }\n",
              "    } else if (Date.now() < root._bokeh_timeout) {\n",
              "      setTimeout(display_loaded, 100)\n",
              "    }\n",
              "  }\n",
              "\n",
              "\n",
              "  function run_callbacks() {\n",
              "    try {\n",
              "      root._bokeh_onload_callbacks.forEach(function(callback) {\n",
              "        if (callback != null)\n",
              "          callback();\n",
              "      });\n",
              "    } finally {\n",
              "      delete root._bokeh_onload_callbacks\n",
              "    }\n",
              "    console.debug(\"Bokeh: all callbacks have finished\");\n",
              "  }\n",
              "\n",
              "  function load_libs(css_urls, js_urls, callback) {\n",
              "    if (css_urls == null) css_urls = [];\n",
              "    if (js_urls == null) js_urls = [];\n",
              "\n",
              "    root._bokeh_onload_callbacks.push(callback);\n",
              "    if (root._bokeh_is_loading > 0) {\n",
              "      console.debug(\"Bokeh: BokehJS is being loaded, scheduling callback at\", now());\n",
              "      return null;\n",
              "    }\n",
              "    if (js_urls == null || js_urls.length === 0) {\n",
              "      run_callbacks();\n",
              "      return null;\n",
              "    }\n",
              "    console.debug(\"Bokeh: BokehJS not loaded, scheduling load and callback at\", now());\n",
              "    root._bokeh_is_loading = css_urls.length + js_urls.length;\n",
              "\n",
              "    function on_load() {\n",
              "      root._bokeh_is_loading--;\n",
              "      if (root._bokeh_is_loading === 0) {\n",
              "        console.debug(\"Bokeh: all BokehJS libraries/stylesheets loaded\");\n",
              "        run_callbacks()\n",
              "      }\n",
              "    }\n",
              "\n",
              "    function on_error(url) {\n",
              "      console.error(\"failed to load \" + url);\n",
              "    }\n",
              "\n",
              "    for (let i = 0; i < css_urls.length; i++) {\n",
              "      const url = css_urls[i];\n",
              "      const element = document.createElement(\"link\");\n",
              "      element.onload = on_load;\n",
              "      element.onerror = on_error.bind(null, url);\n",
              "      element.rel = \"stylesheet\";\n",
              "      element.type = \"text/css\";\n",
              "      element.href = url;\n",
              "      console.debug(\"Bokeh: injecting link tag for BokehJS stylesheet: \", url);\n",
              "      document.body.appendChild(element);\n",
              "    }\n",
              "\n",
              "    const hashes = {\"https://cdn.bokeh.org/bokeh/release/bokeh-2.3.3.min.js\": \"dM3QQsP+wXdHg42wTqW85BjZQdLNNIXqlPw/BgKoExPmTG7ZLML4EGqLMfqHT6ON\", \"https://cdn.bokeh.org/bokeh/release/bokeh-tables-2.3.3.min.js\": \"8x57I4YuIfu8XyZfFo0XVr2WAT8EK4rh/uDe3wF7YuW2FNUSNEpJbsPaB1nJ2fz2\", \"https://cdn.bokeh.org/bokeh/release/bokeh-widgets-2.3.3.min.js\": \"3QTqdz9LyAm2i0sG5XTePsHec3UHWwVsrOL68SYRoAXsafvfAyqtQ+h440+qIBhS\"};\n",
              "\n",
              "    for (let i = 0; i < js_urls.length; i++) {\n",
              "      const url = js_urls[i];\n",
              "      const element = document.createElement('script');\n",
              "      element.onload = on_load;\n",
              "      element.onerror = on_error.bind(null, url);\n",
              "      element.async = false;\n",
              "      element.src = url;\n",
              "      if (url in hashes) {\n",
              "        element.crossOrigin = \"anonymous\";\n",
              "        element.integrity = \"sha384-\" + hashes[url];\n",
              "      }\n",
              "      console.debug(\"Bokeh: injecting script tag for BokehJS library: \", url);\n",
              "      document.head.appendChild(element);\n",
              "    }\n",
              "  };\n",
              "\n",
              "  function inject_raw_css(css) {\n",
              "    const element = document.createElement(\"style\");\n",
              "    element.appendChild(document.createTextNode(css));\n",
              "    document.body.appendChild(element);\n",
              "  }\n",
              "\n",
              "  \n",
              "  var js_urls = [\"https://cdn.bokeh.org/bokeh/release/bokeh-2.3.3.min.js\", \"https://cdn.bokeh.org/bokeh/release/bokeh-widgets-2.3.3.min.js\", \"https://cdn.bokeh.org/bokeh/release/bokeh-tables-2.3.3.min.js\"];\n",
              "  var css_urls = [];\n",
              "  \n",
              "\n",
              "  var inline_js = [\n",
              "    function(Bokeh) {\n",
              "      Bokeh.set_log_level(\"info\");\n",
              "    },\n",
              "    function(Bokeh) {\n",
              "    \n",
              "    \n",
              "    }\n",
              "  ];\n",
              "\n",
              "  function run_inline_js() {\n",
              "    \n",
              "    if (root.Bokeh !== undefined || force === true) {\n",
              "      \n",
              "    for (var i = 0; i < inline_js.length; i++) {\n",
              "      inline_js[i].call(root, root.Bokeh);\n",
              "    }\n",
              "    } else if (Date.now() < root._bokeh_timeout) {\n",
              "      setTimeout(run_inline_js, 100);\n",
              "    } else if (!root._bokeh_failed_load) {\n",
              "      console.log(\"Bokeh: BokehJS failed to load within specified timeout.\");\n",
              "      root._bokeh_failed_load = true;\n",
              "    } else if (force !== true) {\n",
              "      var cell = $(document.getElementById(null)).parents('.cell').data().cell;\n",
              "      cell.output_area.append_execute_result(NB_LOAD_WARNING)\n",
              "    }\n",
              "\n",
              "  }\n",
              "\n",
              "  if (root._bokeh_is_loading === 0) {\n",
              "    console.debug(\"Bokeh: BokehJS loaded, going straight to plotting\");\n",
              "    run_inline_js();\n",
              "  } else {\n",
              "    load_libs(css_urls, js_urls, function() {\n",
              "      console.debug(\"Bokeh: BokehJS plotting callback run at\", now());\n",
              "      run_inline_js();\n",
              "    });\n",
              "  }\n",
              "}(window));"
            ],
            "application/vnd.bokehjs_load.v0+json": "\n(function(root) {\n  function now() {\n    return new Date();\n  }\n\n  var force = true;\n\n  if (typeof root._bokeh_onload_callbacks === \"undefined\" || force === true) {\n    root._bokeh_onload_callbacks = [];\n    root._bokeh_is_loading = undefined;\n  }\n\n  \n\n  \n  if (typeof (root._bokeh_timeout) === \"undefined\" || force === true) {\n    root._bokeh_timeout = Date.now() + 5000;\n    root._bokeh_failed_load = false;\n  }\n\n  var NB_LOAD_WARNING = {'data': {'text/html':\n     \"<div style='background-color: #fdd'>\\n\"+\n     \"<p>\\n\"+\n     \"BokehJS does not appear to have successfully loaded. If loading BokehJS from CDN, this \\n\"+\n     \"may be due to a slow or bad network connection. Possible fixes:\\n\"+\n     \"</p>\\n\"+\n     \"<ul>\\n\"+\n     \"<li>re-rerun `output_notebook()` to attempt to load from CDN again, or</li>\\n\"+\n     \"<li>use INLINE resources instead, as so:</li>\\n\"+\n     \"</ul>\\n\"+\n     \"<code>\\n\"+\n     \"from bokeh.resources import INLINE\\n\"+\n     \"output_notebook(resources=INLINE)\\n\"+\n     \"</code>\\n\"+\n     \"</div>\"}};\n\n  function display_loaded() {\n    var el = document.getElementById(null);\n    if (el != null) {\n      el.textContent = \"BokehJS is loading...\";\n    }\n    if (root.Bokeh !== undefined) {\n      if (el != null) {\n        el.textContent = \"BokehJS \" + root.Bokeh.version + \" successfully loaded.\";\n      }\n    } else if (Date.now() < root._bokeh_timeout) {\n      setTimeout(display_loaded, 100)\n    }\n  }\n\n\n  function run_callbacks() {\n    try {\n      root._bokeh_onload_callbacks.forEach(function(callback) {\n        if (callback != null)\n          callback();\n      });\n    } finally {\n      delete root._bokeh_onload_callbacks\n    }\n    console.debug(\"Bokeh: all callbacks have finished\");\n  }\n\n  function load_libs(css_urls, js_urls, callback) {\n    if (css_urls == null) css_urls = [];\n    if (js_urls == null) js_urls = [];\n\n    root._bokeh_onload_callbacks.push(callback);\n    if (root._bokeh_is_loading > 0) {\n      console.debug(\"Bokeh: BokehJS is being loaded, scheduling callback at\", now());\n      return null;\n    }\n    if (js_urls == null || js_urls.length === 0) {\n      run_callbacks();\n      return null;\n    }\n    console.debug(\"Bokeh: BokehJS not loaded, scheduling load and callback at\", now());\n    root._bokeh_is_loading = css_urls.length + js_urls.length;\n\n    function on_load() {\n      root._bokeh_is_loading--;\n      if (root._bokeh_is_loading === 0) {\n        console.debug(\"Bokeh: all BokehJS libraries/stylesheets loaded\");\n        run_callbacks()\n      }\n    }\n\n    function on_error(url) {\n      console.error(\"failed to load \" + url);\n    }\n\n    for (let i = 0; i < css_urls.length; i++) {\n      const url = css_urls[i];\n      const element = document.createElement(\"link\");\n      element.onload = on_load;\n      element.onerror = on_error.bind(null, url);\n      element.rel = \"stylesheet\";\n      element.type = \"text/css\";\n      element.href = url;\n      console.debug(\"Bokeh: injecting link tag for BokehJS stylesheet: \", url);\n      document.body.appendChild(element);\n    }\n\n    const hashes = {\"https://cdn.bokeh.org/bokeh/release/bokeh-2.3.3.min.js\": \"dM3QQsP+wXdHg42wTqW85BjZQdLNNIXqlPw/BgKoExPmTG7ZLML4EGqLMfqHT6ON\", \"https://cdn.bokeh.org/bokeh/release/bokeh-tables-2.3.3.min.js\": \"8x57I4YuIfu8XyZfFo0XVr2WAT8EK4rh/uDe3wF7YuW2FNUSNEpJbsPaB1nJ2fz2\", \"https://cdn.bokeh.org/bokeh/release/bokeh-widgets-2.3.3.min.js\": \"3QTqdz9LyAm2i0sG5XTePsHec3UHWwVsrOL68SYRoAXsafvfAyqtQ+h440+qIBhS\"};\n\n    for (let i = 0; i < js_urls.length; i++) {\n      const url = js_urls[i];\n      const element = document.createElement('script');\n      element.onload = on_load;\n      element.onerror = on_error.bind(null, url);\n      element.async = false;\n      element.src = url;\n      if (url in hashes) {\n        element.crossOrigin = \"anonymous\";\n        element.integrity = \"sha384-\" + hashes[url];\n      }\n      console.debug(\"Bokeh: injecting script tag for BokehJS library: \", url);\n      document.head.appendChild(element);\n    }\n  };\n\n  function inject_raw_css(css) {\n    const element = document.createElement(\"style\");\n    element.appendChild(document.createTextNode(css));\n    document.body.appendChild(element);\n  }\n\n  \n  var js_urls = [\"https://cdn.bokeh.org/bokeh/release/bokeh-2.3.3.min.js\", \"https://cdn.bokeh.org/bokeh/release/bokeh-widgets-2.3.3.min.js\", \"https://cdn.bokeh.org/bokeh/release/bokeh-tables-2.3.3.min.js\"];\n  var css_urls = [];\n  \n\n  var inline_js = [\n    function(Bokeh) {\n      Bokeh.set_log_level(\"info\");\n    },\n    function(Bokeh) {\n    \n    \n    }\n  ];\n\n  function run_inline_js() {\n    \n    if (root.Bokeh !== undefined || force === true) {\n      \n    for (var i = 0; i < inline_js.length; i++) {\n      inline_js[i].call(root, root.Bokeh);\n    }\n    } else if (Date.now() < root._bokeh_timeout) {\n      setTimeout(run_inline_js, 100);\n    } else if (!root._bokeh_failed_load) {\n      console.log(\"Bokeh: BokehJS failed to load within specified timeout.\");\n      root._bokeh_failed_load = true;\n    } else if (force !== true) {\n      var cell = $(document.getElementById(null)).parents('.cell').data().cell;\n      cell.output_area.append_execute_result(NB_LOAD_WARNING)\n    }\n\n  }\n\n  if (root._bokeh_is_loading === 0) {\n    console.debug(\"Bokeh: BokehJS loaded, going straight to plotting\");\n    run_inline_js();\n  } else {\n    load_libs(css_urls, js_urls, function() {\n      console.debug(\"Bokeh: BokehJS plotting callback run at\", now());\n      run_inline_js();\n    });\n  }\n}(window));"
          },
          "metadata": {}
        },
        {
          "output_type": "display_data",
          "data": {
            "text/html": [
              "\n",
              "\n",
              "\n",
              "\n",
              "\n",
              "\n",
              "  <div class=\"bk-root\" id=\"82699ac7-fadd-426d-b1fa-73be6ba9702f\" data-root-id=\"1110\"></div>\n"
            ]
          },
          "metadata": {}
        },
        {
          "output_type": "display_data",
          "data": {
            "application/javascript": [
              "(function(root) {\n",
              "  function embed_document(root) {\n",
              "    \n",
              "  var docs_json = {\"6ed07a04-aeb6-4b99-88a2-040460455e4b\":{\"defs\":[],\"roots\":{\"references\":[{\"attributes\":{\"below\":[{\"id\":\"1119\"}],\"center\":[{\"id\":\"1122\"},{\"id\":\"1126\"}],\"height\":200,\"left\":[{\"id\":\"1123\"}],\"renderers\":[{\"id\":\"1146\"}],\"title\":{\"id\":\"1149\"},\"toolbar\":{\"id\":\"1133\"},\"width\":500,\"x_range\":{\"id\":\"1111\"},\"x_scale\":{\"id\":\"1115\"},\"y_range\":{\"id\":\"1113\"},\"y_scale\":{\"id\":\"1117\"}},\"id\":\"1110\",\"subtype\":\"Figure\",\"type\":\"Plot\"},{\"attributes\":{\"axis\":{\"id\":\"1119\"},\"ticker\":null},\"id\":\"1122\",\"type\":\"Grid\"},{\"attributes\":{},\"id\":\"1115\",\"type\":\"LinearScale\"},{\"attributes\":{\"data\":{\"bottom\":{\"__ndarray__\":\"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\",\"dtype\":\"float64\",\"order\":\"little\",\"shape\":[854]},\"duration\":{\"__ndarray__\":\"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\",\"dtype\":\"float64\",\"order\":\"little\",\"shape\":[854]},\"end_time\":{\"__ndarray__\":\"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\",\"dtype\":\"float64\",\"order\":\"little\",\"shape\":[854]},\"fill_alpha\":{\"__ndarray__\":\"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\",\"dtype\":\"float64\",\"order\":\"little\",\"shape\":[854]},\"index\":[0,1,2,3,4,5,6,7,8,9,10,11,12,13,14,15,16,17,18,19,20,21,22,23,24,25,26,27,28,29,30,31,32,33,34,35,36,37,38,39,40,41,42,43,44,45,46,47,48,49,50,51,52,53,54,55,56,57,58,59,60,61,62,63,64,65,66,67,68,69,70,71,72,73,74,75,76,77,78,79,80,81,82,83,84,85,86,87,88,89,90,91,92,93,94,95,96,97,98,99,100,101,102,103,104,105,106,107,108,109,110,111,112,113,114,115,116,117,118,119,120,121,122,123,124,125,126,127,128,129,130,131,132,133,134,135,136,137,138,139,140,141,142,143,144,145,146,147,148,149,150,151,152,153,154,155,156,157,158,159,160,161,162,163,164,165,166,167,168,169,170,171,172,173,174,175,176,177,178,179,180,181,182,183,184,185,186,187,188,189,190,191,192,193,194,195,196,197,198,199,200,201,202,203,204,205,206,207,208,209,210,211,212,213,214,215,216,217,218,219,220,221,222,223,224,225,226,227,228,229,230,231,232,233,234,235,236,237,238,239,240,241,242,243,244,245,246,247,248,249,250,251,252,253,254,255,256,257,258,259,260,261,262,263,264,265,266,267,268,269,270,271,272,273,274,275,276,277,278,279,280,281,282,283,284,285,286,287,288,289,290,291,292,293,294,295,296,297,298,299,300,301,302,303,304,305,306,307,308,309,310,311,312,313,314,315,316,317,318,319,320,321,322,323,324,325,326,327,328,329,330,331,332,333,334,335,336,337,338,339,340,341,342,343,344,345,346,347,348,349,350,351,352,353,354,355,356,357,358,359,360,361,362,363,364,365,366,367,368,369,370,371,372,373,374,375,376,377,378,379,380,381,382,383,384,385,386,387,388,389,390,391,392,393,394,395,396,397,398,399,400,401,402,403,404,405,406,407,408,409,410,411,412,413,414,415,416,417,418,419,420,421,422,423,424,425,426,427,428,429,430,431,432,433,434,435,436,437,438,439,440,441,442,443,444,445,446,447,448,449,450,451,452,453,454,455,456,457,458,459,460,461,462,463,464,465,466,467,468,469,470,471,472,473,474,475,476,477,478,479,480,481,482,483,484,485,486,487,488,489,490,491,492,493,494,495,496,497,498,499,500,501,502,503,504,505,506,507,508,509,510,511,512,513,514,515,516,517,518,519,520,521,522,523,524,525,526,527,528,529,530,531,532,533,534,535,536,537,538,539,540,541,542,543,544,545,546,547,548,549,550,551,552,553,554,555,556,557,558,559,560,561,562,563,564,565,566,567,568,569,570,571,572,573,574,575,576,577,578,579,580,581,582,583,584,585,586,587,588,589,590,591,592,593,594,595,596,597,598,599,600,601,602,603,604,605,606,607,608,609,610,611,612,613,614,615,616,617,618,619,620,621,622,623,624,625,626,627,628,629,630,631,632,633,634,635,636,637,638,639,640,641,642,643,644,645,646,647,648,649,650,651,652,653,654,655,656,657,658,659,660,661,662,663,664,665,666,667,668,669,670,671,672,673,674,675,676,677,678,679,680,681,682,683,684,685,686,687,688,689,690,691,692,693,694,695,696,697,698,699,700,701,702,703,704,705,706,707,708,709,710,711,712,713,714,715,716,717,718,719,720,721,722,723,724,725,726,727,728,729,730,731,732,733,734,735,736,737,738,739,740,741,742,743,744,745,746,747,748,749,750,751,752,753,754,755,756,757,758,759,760,761,762,763,764,765,766,767,768,769,770,771,772,773,774,775,776,777,778,779,780,781,782,783,784,785,786,787,788,789,790,791,792,793,794,795,796,797,798,799,800,801,802,803,804,805,806,807,808,809,810,811,812,813,814,815,816,817,818,819,820,821,822,823,824,825,826,827,828,829,830,831,832,833,834,835,836,837,838,839,840,841,842,843,844,845,846,847,848,849,850,851,852,853],\"instrument\":[0,0,0,0,0,0,0,0,0,0,0,0,0,0,0,0,0,0,0,0,0,0,0,0,0,0,0,0,0,0,0,0,0,0,0,0,0,0,0,0,0,0,0,0,0,0,0,0,0,0,0,0,0,0,0,0,0,0,0,0,0,0,0,0,0,0,0,0,0,0,0,0,0,0,0,0,0,0,0,0,0,0,0,0,0,0,0,0,0,0,0,0,0,0,0,0,0,0,0,0,0,0,0,0,0,0,0,0,0,0,0,0,0,0,0,0,0,0,0,0,0,0,0,0,0,0,0,0,0,0,0,0,0,0,0,0,0,0,0,0,0,0,0,0,0,0,0,0,0,0,0,0,0,0,0,0,0,0,0,0,0,0,0,0,0,0,0,0,0,0,0,0,0,0,0,0,0,0,0,0,0,0,0,0,0,0,0,0,0,0,0,0,0,0,0,0,0,0,0,0,0,0,0,0,0,0,0,0,0,0,0,0,0,0,0,0,0,0,0,0,0,0,0,0,0,0,0,0,0,0,0,0,0,0,0,0,0,0,0,0,0,0,0,0,0,0,0,0,0,0,0,0,0,0,0,0,0,0,0,0,0,0,0,0,0,0,0,0,0,0,0,0,0,0,0,0,0,0,0,0,0,0,0,0,0,0,0,0,0,0,0,0,0,0,0,0,0,0,0,0,0,0,0,0,0,0,0,0,0,0,0,0,0,0,0,0,0,0,0,0,0,0,0,0,0,0,0,0,0,0,0,0,0,0,0,0,0,0,0,0,0,0,0,0,0,0,0,0,0,0,0,0,0,0,0,0,0,0,0,0,0,0,0,0,0,0,0,0,0,0,0,0,0,0,0,0,0,0,0,0,0,0,0,0,0,0,0,0,0,0,0,0,0,0,0,0,0,0,0,0,0,0,0,0,0,0,0,0,0,0,0,0,0,0,0,0,0,0,0,0,0,0,0,0,0,0,0,0,0,0,0,0,0,0,0,0,0,0,0,0,0,0,0,0,0,0,0,0,0,0,0,0,0,0,0,0,0,0,0,0,0,0,0,0,0,0,0,0,0,0,0,0,0,0,0,0,0,0,0,0,0,0,0,0,0,0,0,0,0,0,0,0,0,0,0,0,0,0,0,0,0,0,0,0,0,0,0,0,0,0,0,0,0,0,0,0,0,0,0,0,0,0,0,0,0,0,0,0,0,0,0,0,0,0,0,0,0,0,0,0,0,0,0,0,0,0,0,0,0,0,0,0,0,0,0,0,0,0,0,0,0,0,0,0,0,0,0,0,0,0,0,0,0,0,0,0,0,0,0,0,0,0,0,0,0,0,0,0,0,0,0,0,0,0,0,0,0,0,0,0,0,0,0,0,0,0,0,0,0,0,0,0,0,0,0,0,0,0,0,0,0,0,0,0,0,0,0,0,0,0,0,0,0,0,0,0,0,0,0,0,0,0,0,0,0,0,0,0,0,0,0,0,0,0,0,0,0,0,0,0,0,0,0,0,0,0,0,0,0,0,0,0,0,0,0,0,0,0,0,0,0,0,0,0,0,0,0,0,0,0,0,0,0,0,0,0,0,0,0,0,0,0,0,0,0,0,0,0,0,0,0,0,0,0,0,0,0,0,0,0,0,0,0,0,0,0,0,0,0,0,0,0,0,0,0,0,0,0,0,0,0,0,0,0,0,0,0,0,0,0,0,0,0,0,0,0,0,0,0,0,0,0,0,0,0,0,0,0,0,0,0,0,0,0,0,0,0,0,0,0,0,0,0,0,0,0,0,0,0,0,0,0,0,0,0,0,0,0,0,0,0,0,0,0,0,0,0,0,0,0,0,0,0,0,0,0,0,0,0,0,0,0,0,0,0,0,0,0,0,0,0,0,0,0,0,0,0,0,0,0,0,0,0,0,0,0,0,0,0,0,0,0,0,0],\"pitch\":[67,69,67,69,74,67,69,60,64,67,69,76,74,60,64,67,69,67,72,48,64,69,60,60,74,76,64,69,60,64,69,60,64,72,55,48,60,64,69,74,76,67,67,47,71,52,59,79,65,67,76,67,72,65,81,67,72,67,71,67,71,71,76,50,45,67,48,71,79,64,76,71,48,55,72,67,67,47,52,65,43,55,79,40,75,71,50,67,48,52,62,71,74,72,65,60,67,53,65,41,69,67,55,60,67,56,43,67,60,63,60,60,69,72,44,65,55,74,65,50,57,69,72,41,65,74,44,75,70,63,32,43,50,74,55,72,67,62,70,53,74,65,72,67,60,62,70,46,56,63,55,48,60,72,43,67,77,70,74,62,79,55,43,70,82,53,72,84,63,79,67,55,63,75,79,70,43,62,70,77,67,72,58,41,70,77,79,53,77,62,72,67,82,70,72,77,60,67,53,65,58,60,41,67,48,63,79,67,72,49,60,75,74,55,63,70,74,65,48,57,67,72,53,58,62,46,60,70,72,57,65,48,57,69,55,67,72,48,51,60,72,50,55,43,51,60,72,55,41,51,75,63,74,70,70,56,44,65,48,53,69,72,43,65,69,56,44,60,72,63,51,70,75,43,56,77,44,79,51,60,70,65,82,63,75,53,70,84,82,44,63,83,87,86,56,68,75,63,72,81,65,86,53,77,79,53,84,72,82,60,79,53,65,80,68,79,77,63,65,72,62,58,70,75,63,44,56,55,72,75,65,77,53,63,74,62,51,77,53,70,79,55,72,56,75,77,72,55,75,63,77,53,60,75,63,57,60,67,63,69,72,65,77,55,70,63,53,68,55,51,55,60,48,67,60,44,72,63,60,51,39,56,44,60,63,53,41,56,62,43,70,55,65,51,55,48,60,63,67,55,67,60,63,65,63,67,55,58,65,55,63,51,67,60,72,75,48,62,63,74,48,72,58,70,68,60,63,67,58,48,65,63,55,51,62,48,68,64,70,63,68,75,63,72,72,51,75,74,50,46,43,70,55,51,39,67,60,72,72,75,48,55,41,60,53,48,55,41,57,60,53,72,48,55,56,60,63,44,68,67,51,39,63,60,43,65,55,56,72,51,58,70,43,55,67,41,72,75,60,53,74,43,69,72,58,65,70,41,57,62,68,67,67,58,65,56,39,60,67,72,55,63,43,60,75,39,70,74,63,44,56,62,72,46,48,60,70,68,58,48,67,46,65,44,63,46,62,48,65,50,67,51,68,72,44,56,75,51,55,70,63,72,68,53,63,75,74,46,72,67,55,58,62,65,48,55,63,60,51,53,60,57,63,41,62,65,65,70,50,48,43,60,67,39,63,56,60,44,51,63,53,65,50,53,58,41,62,65,50,70,51,67,48,60,55,67,58,70,63,67,72,72,67,65,63,72,67,51,60,75,50,74,60,55,72,62,70,60,68,62,67,58,48,65,46,46,60,60,56,60,48,63,68,72,44,70,51,56,68,72,58,72,60,68,72,39,63,75,70,62,53,74,77,51,63,51,79,80,51,60,63,62,79,77,70,63,75,63,62,67,74,55,48,60,63,72,58,62,70,56,68,48,55,67,63,53,60,65,34,55,55,60,41,51,55,60,48,51,55,48,46,55,60,56,44,44,63,56,44,60,39,63,56,60,65,48,65,39,55,67,60,51,63,65,53,55,67,44,56,68,79,67,77,63,75,60,70,74,55,72,48,51,70,50,68,51,67,53,65,46,51,60,48,55,67,63,56,44,60,39,63,53,62,58,65,72,53,65,75,79,62,70,74,65,77,70,46,82,55,70,79,55,70,82,53,39,77,51,70,67,43,55,67,51,51,70,68,56,44,72,70,51,72,44,68,51,56,72,68,75,51,44,60,70,74,48,67,72,58,46,70,56,68,55,67,53,65,51,63,67,46,65,48,63],\"program\":[0,0,0,0,0,0,0,0,0,0,0,0,0,0,0,0,0,0,0,0,0,0,0,0,0,0,0,0,0,0,0,0,0,0,0,0,0,0,0,0,0,0,0,0,0,0,0,0,0,0,0,0,0,0,0,0,0,0,0,0,0,0,0,0,0,0,0,0,0,0,0,0,0,0,0,0,0,0,0,0,0,0,0,0,0,0,0,0,0,0,0,0,0,0,0,0,0,0,0,0,0,0,0,0,0,0,0,0,0,0,0,0,0,0,0,0,0,0,0,0,0,0,0,0,0,0,0,0,0,0,0,0,0,0,0,0,0,0,0,0,0,0,0,0,0,0,0,0,0,0,0,0,0,0,0,0,0,0,0,0,0,0,0,0,0,0,0,0,0,0,0,0,0,0,0,0,0,0,0,0,0,0,0,0,0,0,0,0,0,0,0,0,0,0,0,0,0,0,0,0,0,0,0,0,0,0,0,0,0,0,0,0,0,0,0,0,0,0,0,0,0,0,0,0,0,0,0,0,0,0,0,0,0,0,0,0,0,0,0,0,0,0,0,0,0,0,0,0,0,0,0,0,0,0,0,0,0,0,0,0,0,0,0,0,0,0,0,0,0,0,0,0,0,0,0,0,0,0,0,0,0,0,0,0,0,0,0,0,0,0,0,0,0,0,0,0,0,0,0,0,0,0,0,0,0,0,0,0,0,0,0,0,0,0,0,0,0,0,0,0,0,0,0,0,0,0,0,0,0,0,0,0,0,0,0,0,0,0,0,0,0,0,0,0,0,0,0,0,0,0,0,0,0,0,0,0,0,0,0,0,0,0,0,0,0,0,0,0,0,0,0,0,0,0,0,0,0,0,0,0,0,0,0,0,0,0,0,0,0,0,0,0,0,0,0,0,0,0,0,0,0,0,0,0,0,0,0,0,0,0,0,0,0,0,0,0,0,0,0,0,0,0,0,0,0,0,0,0,0,0,0,0,0,0,0,0,0,0,0,0,0,0,0,0,0,0,0,0,0,0,0,0,0,0,0,0,0,0,0,0,0,0,0,0,0,0,0,0,0,0,0,0,0,0,0,0,0,0,0,0,0,0,0,0,0,0,0,0,0,0,0,0,0,0,0,0,0,0,0,0,0,0,0,0,0,0,0,0,0,0,0,0,0,0,0,0,0,0,0,0,0,0,0,0,0,0,0,0,0,0,0,0,0,0,0,0,0,0,0,0,0,0,0,0,0,0,0,0,0,0,0,0,0,0,0,0,0,0,0,0,0,0,0,0,0,0,0,0,0,0,0,0,0,0,0,0,0,0,0,0,0,0,0,0,0,0,0,0,0,0,0,0,0,0,0,0,0,0,0,0,0,0,0,0,0,0,0,0,0,0,0,0,0,0,0,0,0,0,0,0,0,0,0,0,0,0,0,0,0,0,0,0,0,0,0,0,0,0,0,0,0,0,0,0,0,0,0,0,0,0,0,0,0,0,0,0,0,0,0,0,0,0,0,0,0,0,0,0,0,0,0,0,0,0,0,0,0,0,0,0,0,0,0,0,0,0,0,0,0,0,0,0,0,0,0,0,0,0,0,0,0,0,0,0,0,0,0,0,0,0,0,0,0,0,0,0,0,0,0,0,0,0,0,0,0,0,0,0,0,0,0,0,0,0,0,0,0,0,0,0,0,0,0,0,0,0,0,0,0,0,0,0,0,0,0,0,0,0,0,0,0,0,0,0,0,0,0,0,0,0,0,0,0,0,0,0,0,0,0,0,0,0,0,0,0,0,0,0,0,0,0,0,0,0,0,0,0,0,0,0,0,0,0,0,0,0,0,0,0,0,0,0,0,0,0,0,0,0,0,0,0,0,0,0,0,0,0,0,0,0,0,0,0,0,0,0,0,0,0,0,0,0,0,0,0,0,0,0,0,0,0,0,0,0],\"start_time\":{\"__ndarray__\":\"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\",\"dtype\":\"float64\",\"order\":\"little\",\"shape\":[854]},\"top\":{\"__ndarray__\":\"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\",\"dtype\":\"float64\",\"order\":\"little\",\"shape\":[854]},\"velocity\":[25,29,21,25,33,17,17,25,29,9,9,33,33,21,21,25,21,21,33,21,17,17,21,29,29,33,29,29,21,25,17,21,25,37,21,25,17,21,21,25,29,25,21,17,29,21,25,33,25,25,33,17,29,21,33,25,29,17,25,17,25,25,33,21,17,17,25,29,29,37,37,37,17,25,33,29,17,9,21,25,21,13,29,21,33,29,21,17,21,21,21,33,33,37,25,25,33,25,37,25,37,33,33,29,33,37,33,37,33,33,21,17,37,37,37,33,13,37,17,25,17,29,25,21,21,29,25,33,29,29,21,33,21,33,33,37,29,41,33,21,33,25,33,33,25,25,41,25,25,41,33,37,33,41,25,25,41,33,37,33,41,25,25,29,41,33,37,37,37,37,21,25,21,33,33,17,21,29,17,21,29,29,29,21,21,29,33,25,29,21,29,29,33,29,29,33,33,29,29,25,21,17,17,29,21,25,37,29,37,21,25,33,33,25,21,25,33,25,21,21,21,29,25,25,25,25,17,17,29,21,21,17,37,41,29,33,41,37,25,41,25,17,21,25,25,25,29,25,21,25,33,25,33,29,21,25,25,21,17,21,21,41,25,21,33,25,29,29,37,25,29,29,33,25,25,33,25,25,21,25,29,29,33,21,25,17,17,33,25,17,9,25,33,29,21,17,25,21,25,29,13,33,21,25,25,25,41,29,37,17,33,25,25,41,25,37,37,29,21,29,21,21,25,29,21,9,21,25,25,33,29,33,25,21,37,25,21,41,29,25,37,25,25,25,25,37,25,13,29,17,33,21,21,37,25,25,33,37,29,33,37,25,25,21,41,29,17,25,17,9,17,21,37,29,25,25,29,17,21,17,25,25,17,21,21,21,21,21,25,25,37,29,33,25,17,21,21,25,29,17,29,21,21,37,21,33,17,25,25,25,33,21,29,25,29,33,29,17,21,25,9,25,25,37,33,21,29,33,25,21,25,29,17,13,25,21,29,37,37,21,25,37,25,37,29,21,33,25,21,21,25,33,25,13,21,33,25,29,37,29,25,25,17,21,21,25,25,25,25,25,25,21,25,25,21,25,25,21,29,25,21,25,17,21,25,25,29,21,37,25,25,37,25,21,29,21,33,25,25,21,25,9,17,25,17,29,17,13,21,17,21,29,25,29,25,21,17,25,33,37,21,25,21,21,25,21,29,33,21,17,25,25,33,25,21,21,41,33,25,25,25,21,29,17,33,17,25,21,33,17,33,21,33,41,25,33,37,21,21,37,29,37,25,29,21,37,25,9,37,21,21,21,21,25,25,25,25,25,21,29,33,25,25,25,29,33,21,37,29,17,17,25,29,33,29,33,29,33,25,33,29,37,29,21,33,17,21,33,21,33,17,33,21,21,13,25,17,41,17,29,41,25,17,25,21,33,25,21,25,29,25,37,21,21,29,21,33,29,29,17,21,25,21,25,21,9,21,17,25,17,17,37,37,41,29,37,21,25,25,37,21,33,21,29,37,33,25,33,37,21,21,37,37,17,17,21,29,37,13,13,17,17,37,37,29,21,45,21,25,33,33,17,21,25,21,33,21,21,33,25,33,21,21,29,25,21,21,25,17,21,17,17,17,9,9,9,9,1,5,9,5,5,1,13,13,13,37,21,21,29,33,29,25,21,29,21,25,21,17,33,21,17,33,29,21,21,29,25,21,37,37,33,33,17,29,25,25,25,25,33,13,13,37,17,29,17,33,9,29,17,13,21,13,17,25,21,21,17,25,33,33,17,25,17,33,41,21,25,41,37,21,29,29,33,41,41,17,41,29,41,41,21,37,41,25,25,25,17,29,33,17,21,21,9,21,37,21,17,17,33,33,21,33,21,25,17,21,37,33,41,21,21,21,37,33,25,21,29,21,21,33,29,29,17,25,13,25,9,21,29,5,17,17,13]},\"selected\":{\"id\":\"1155\"},\"selection_policy\":{\"id\":\"1156\"}},\"id\":\"1142\",\"type\":\"ColumnDataSource\"},{\"attributes\":{\"bottom\":{\"field\":\"bottom\"},\"fill_alpha\":{\"value\":0.1},\"fill_color\":{\"value\":\"#d53e4f\"},\"left\":{\"field\":\"start_time\"},\"line_alpha\":{\"value\":0.1},\"right\":{\"field\":\"end_time\"},\"top\":{\"field\":\"top\"}},\"id\":\"1145\",\"type\":\"Quad\"},{\"attributes\":{},\"id\":\"1156\",\"type\":\"UnionRenderers\"},{\"attributes\":{\"bottom_units\":\"screen\",\"fill_alpha\":0.5,\"fill_color\":\"lightgrey\",\"left_units\":\"screen\",\"level\":\"overlay\",\"line_alpha\":1.0,\"line_color\":\"black\",\"line_dash\":[4,4],\"line_width\":2,\"right_units\":\"screen\",\"syncable\":false,\"top_units\":\"screen\"},\"id\":\"1132\",\"type\":\"BoxAnnotation\"},{\"attributes\":{\"interval\":12},\"id\":\"1139\",\"type\":\"SingleIntervalTicker\"},{\"attributes\":{},\"id\":\"1130\",\"type\":\"ResetTool\"},{\"attributes\":{},\"id\":\"1120\",\"type\":\"BasicTicker\"},{\"attributes\":{\"axis_label\":\"pitch (MIDI)\",\"formatter\":{\"id\":\"1151\"},\"major_label_policy\":{\"id\":\"1150\"},\"ticker\":{\"id\":\"1139\"}},\"id\":\"1123\",\"type\":\"LinearAxis\"},{\"attributes\":{},\"id\":\"1113\",\"type\":\"DataRange1d\"},{\"attributes\":{\"active_multi\":null,\"tools\":[{\"id\":\"1127\"},{\"id\":\"1128\"},{\"id\":\"1129\"},{\"id\":\"1130\"},{\"id\":\"1131\"}]},\"id\":\"1133\",\"type\":\"Toolbar\"},{\"attributes\":{\"data_source\":{\"id\":\"1142\"},\"glyph\":{\"id\":\"1144\"},\"hover_glyph\":null,\"muted_glyph\":null,\"nonselection_glyph\":{\"id\":\"1145\"},\"view\":{\"id\":\"1147\"}},\"id\":\"1146\",\"type\":\"GlyphRenderer\"},{\"attributes\":{\"interval\":12},\"id\":\"1141\",\"type\":\"SingleIntervalTicker\"},{\"attributes\":{\"axis\":{\"id\":\"1123\"},\"dimension\":1,\"ticker\":{\"id\":\"1141\"}},\"id\":\"1126\",\"type\":\"Grid\"},{\"attributes\":{},\"id\":\"1128\",\"type\":\"PanTool\"},{\"attributes\":{},\"id\":\"1155\",\"type\":\"Selection\"},{\"attributes\":{},\"id\":\"1150\",\"type\":\"AllLabels\"},{\"attributes\":{\"overlay\":{\"id\":\"1132\"}},\"id\":\"1129\",\"type\":\"BoxZoomTool\"},{\"attributes\":{\"axis_label\":\"time (sec)\",\"formatter\":{\"id\":\"1154\"},\"major_label_policy\":{\"id\":\"1152\"},\"ticker\":{\"id\":\"1120\"}},\"id\":\"1119\",\"type\":\"LinearAxis\"},{\"attributes\":{},\"id\":\"1149\",\"type\":\"Title\"},{\"attributes\":{\"callback\":null,\"tooltips\":[[\"pitch\",\"@pitch\"],[\"program\",\"@program\"],[\"velo\",\"@velocity\"],[\"duration\",\"@duration\"],[\"start_time\",\"@start_time\"],[\"end_time\",\"@end_time\"],[\"velocity\",\"@velocity\"],[\"fill_alpha\",\"@fill_alpha\"]]},\"id\":\"1127\",\"type\":\"HoverTool\"},{\"attributes\":{},\"id\":\"1117\",\"type\":\"LinearScale\"},{\"attributes\":{},\"id\":\"1151\",\"type\":\"BasicTickFormatter\"},{\"attributes\":{\"source\":{\"id\":\"1142\"}},\"id\":\"1147\",\"type\":\"CDSView\"},{\"attributes\":{},\"id\":\"1154\",\"type\":\"BasicTickFormatter\"},{\"attributes\":{},\"id\":\"1131\",\"type\":\"SaveTool\"},{\"attributes\":{},\"id\":\"1111\",\"type\":\"DataRange1d\"},{\"attributes\":{},\"id\":\"1152\",\"type\":\"AllLabels\"},{\"attributes\":{\"bottom\":{\"field\":\"bottom\"},\"fill_alpha\":{\"field\":\"fill_alpha\"},\"fill_color\":{\"value\":\"#d53e4f\"},\"left\":{\"field\":\"start_time\"},\"right\":{\"field\":\"end_time\"},\"top\":{\"field\":\"top\"}},\"id\":\"1144\",\"type\":\"Quad\"}],\"root_ids\":[\"1110\"]},\"title\":\"Bokeh Application\",\"version\":\"2.3.3\"}};\n",
              "  var render_items = [{\"docid\":\"6ed07a04-aeb6-4b99-88a2-040460455e4b\",\"root_ids\":[\"1110\"],\"roots\":{\"1110\":\"82699ac7-fadd-426d-b1fa-73be6ba9702f\"}}];\n",
              "  root.Bokeh.embed.embed_items_notebook(docs_json, render_items);\n",
              "\n",
              "  }\n",
              "  if (root.Bokeh !== undefined) {\n",
              "    embed_document(root);\n",
              "  } else {\n",
              "    var attempts = 0;\n",
              "    var timer = setInterval(function(root) {\n",
              "      if (root.Bokeh !== undefined) {\n",
              "        clearInterval(timer);\n",
              "        embed_document(root);\n",
              "      } else {\n",
              "        attempts++;\n",
              "        if (attempts > 100) {\n",
              "          clearInterval(timer);\n",
              "          console.log(\"Bokeh: ERROR: Unable to run BokehJS code because BokehJS library is missing\");\n",
              "        }\n",
              "      }\n",
              "    }, 10, root)\n",
              "  }\n",
              "})(window);"
            ],
            "application/vnd.bokehjs_exec.v0+json": ""
          },
          "metadata": {
            "application/vnd.bokehjs_exec.v0+json": {
              "id": "1110"
            }
          }
        }
      ]
    },
    {
      "cell_type": "code",
      "metadata": {
        "id": "2fFhZbhIeS2f",
        "cellView": "form",
        "outputId": "688f2de9-6448-4e22-d746-7ccec07214e5",
        "colab": {
          "base_uri": "https://localhost:8080/",
          "height": 17
        }
      },
      "source": [
        "#@title Download Accompaniment as MIDI\n",
        "#@markdown Download accompaniment performance as MIDI (optional).\n",
        "\n",
        "note_seq.sequence_proto_to_midi_file(\n",
        "    accompaniment_ns, '/tmp/accompaniment.mid')\n",
        "files.download('/tmp/accompaniment.mid')"
      ],
      "execution_count": 6,
      "outputs": [
        {
          "output_type": "display_data",
          "data": {
            "text/plain": [
              "<IPython.core.display.Javascript object>"
            ],
            "application/javascript": [
              "\n",
              "    async function download(id, filename, size) {\n",
              "      if (!google.colab.kernel.accessAllowed) {\n",
              "        return;\n",
              "      }\n",
              "      const div = document.createElement('div');\n",
              "      const label = document.createElement('label');\n",
              "      label.textContent = `Downloading \"${filename}\": `;\n",
              "      div.appendChild(label);\n",
              "      const progress = document.createElement('progress');\n",
              "      progress.max = size;\n",
              "      div.appendChild(progress);\n",
              "      document.body.appendChild(div);\n",
              "\n",
              "      const buffers = [];\n",
              "      let downloaded = 0;\n",
              "\n",
              "      const channel = await google.colab.kernel.comms.open(id);\n",
              "      // Send a message to notify the kernel that we're ready.\n",
              "      channel.send({})\n",
              "\n",
              "      for await (const message of channel.messages) {\n",
              "        // Send a message to notify the kernel that we're ready.\n",
              "        channel.send({})\n",
              "        if (message.buffers) {\n",
              "          for (const buffer of message.buffers) {\n",
              "            buffers.push(buffer);\n",
              "            downloaded += buffer.byteLength;\n",
              "            progress.value = downloaded;\n",
              "          }\n",
              "        }\n",
              "      }\n",
              "      const blob = new Blob(buffers, {type: 'application/binary'});\n",
              "      const a = document.createElement('a');\n",
              "      a.href = window.URL.createObjectURL(blob);\n",
              "      a.download = filename;\n",
              "      div.appendChild(a);\n",
              "      a.click();\n",
              "      div.remove();\n",
              "    }\n",
              "  "
            ]
          },
          "metadata": {}
        },
        {
          "output_type": "display_data",
          "data": {
            "text/plain": [
              "<IPython.core.display.Javascript object>"
            ],
            "application/javascript": [
              "download(\"download_1522f09a-e209-4159-af85-4c4a6db69fd1\", \"accompaniment.mid\", 5245)"
            ]
          },
          "metadata": {}
        }
      ]
    }
  ]
}